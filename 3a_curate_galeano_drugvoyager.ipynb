{
 "cells": [
  {
   "cell_type": "markdown",
   "id": "55ee84d1-4d0f-4517-9bf0-3eef669cbd19",
   "metadata": {},
   "source": [
    "## Load UKBiobank phenotypes and Pubchem identifiers from SIDER curation\n",
    "\n",
    "match to our UKB phenotypes\n",
    "\n",
    "match to our pubchem"
   ]
  },
  {
   "cell_type": "code",
   "execution_count": 1,
   "id": "89c58fe0-314b-41d9-a896-021fba2584c4",
   "metadata": {},
   "outputs": [],
   "source": [
    "se_curate = pd.read_csv(\"intermediate_files/sider_se_ukb_match.txt\",sep=\"\\t\",index_col=0)"
   ]
  },
  {
   "cell_type": "code",
   "execution_count": 61,
   "id": "6f0b9239-a709-4f55-8b6b-47efeabb9cc5",
   "metadata": {},
   "outputs": [
    {
     "data": {
      "text/html": [
       "<div>\n",
       "<style scoped>\n",
       "    .dataframe tbody tr th:only-of-type {\n",
       "        vertical-align: middle;\n",
       "    }\n",
       "\n",
       "    .dataframe tbody tr th {\n",
       "        vertical-align: top;\n",
       "    }\n",
       "\n",
       "    .dataframe thead th {\n",
       "        text-align: right;\n",
       "    }\n",
       "</style>\n",
       "<table border=\"1\" class=\"dataframe\">\n",
       "  <thead>\n",
       "    <tr style=\"text-align: right;\">\n",
       "      <th></th>\n",
       "      <th>stitch_flat</th>\n",
       "      <th>stitch_stereo</th>\n",
       "      <th>UMLS_label</th>\n",
       "      <th>type</th>\n",
       "      <th>meddra</th>\n",
       "      <th>se_name</th>\n",
       "      <th>pubchem_cid</th>\n",
       "      <th>ukb</th>\n",
       "      <th>ae</th>\n",
       "    </tr>\n",
       "  </thead>\n",
       "  <tbody>\n",
       "    <tr>\n",
       "      <th>8</th>\n",
       "      <td>CID100000085</td>\n",
       "      <td>CID000010917</td>\n",
       "      <td>C0002871</td>\n",
       "      <td>PT</td>\n",
       "      <td>C0002871</td>\n",
       "      <td>Anaemia</td>\n",
       "      <td>85</td>\n",
       "      <td>Non-cancer illness code, self-reported: anaemia</td>\n",
       "      <td>1</td>\n",
       "    </tr>\n",
       "    <tr>\n",
       "      <th>14</th>\n",
       "      <td>CID100000085</td>\n",
       "      <td>CID000010917</td>\n",
       "      <td>C0003811</td>\n",
       "      <td>PT</td>\n",
       "      <td>C0003811</td>\n",
       "      <td>Arrhythmia</td>\n",
       "      <td>85</td>\n",
       "      <td>Non-cancer illness code, self-reported: heart ...</td>\n",
       "      <td>1</td>\n",
       "    </tr>\n",
       "    <tr>\n",
       "      <th>18</th>\n",
       "      <td>CID100000085</td>\n",
       "      <td>CID000010917</td>\n",
       "      <td>C0004238</td>\n",
       "      <td>PT</td>\n",
       "      <td>C0004238</td>\n",
       "      <td>Atrial fibrillation</td>\n",
       "      <td>85</td>\n",
       "      <td>Non-cancer illness code, self-reported: atrial...</td>\n",
       "      <td>1</td>\n",
       "    </tr>\n",
       "    <tr>\n",
       "      <th>20</th>\n",
       "      <td>CID100000085</td>\n",
       "      <td>CID000010917</td>\n",
       "      <td>C0004604</td>\n",
       "      <td>PT</td>\n",
       "      <td>C0004604</td>\n",
       "      <td>Back pain</td>\n",
       "      <td>85</td>\n",
       "      <td>Dorsalgia</td>\n",
       "      <td>1</td>\n",
       "    </tr>\n",
       "    <tr>\n",
       "      <th>22</th>\n",
       "      <td>CID100000085</td>\n",
       "      <td>CID000010917</td>\n",
       "      <td>C0006277</td>\n",
       "      <td>PT</td>\n",
       "      <td>C0006277</td>\n",
       "      <td>Bronchitis</td>\n",
       "      <td>85</td>\n",
       "      <td>Bronchitis</td>\n",
       "      <td>1</td>\n",
       "    </tr>\n",
       "  </tbody>\n",
       "</table>\n",
       "</div>"
      ],
      "text/plain": [
       "     stitch_flat stitch_stereo UMLS_label type    meddra              se_name  \\\n",
       "8   CID100000085  CID000010917   C0002871   PT  C0002871              Anaemia   \n",
       "14  CID100000085  CID000010917   C0003811   PT  C0003811           Arrhythmia   \n",
       "18  CID100000085  CID000010917   C0004238   PT  C0004238  Atrial fibrillation   \n",
       "20  CID100000085  CID000010917   C0004604   PT  C0004604            Back pain   \n",
       "22  CID100000085  CID000010917   C0006277   PT  C0006277           Bronchitis   \n",
       "\n",
       "    pubchem_cid                                                ukb  ae  \n",
       "8            85    Non-cancer illness code, self-reported: anaemia   1  \n",
       "14           85  Non-cancer illness code, self-reported: heart ...   1  \n",
       "18           85  Non-cancer illness code, self-reported: atrial...   1  \n",
       "20           85                                          Dorsalgia   1  \n",
       "22           85                                         Bronchitis   1  "
      ]
     },
     "execution_count": 61,
     "metadata": {},
     "output_type": "execute_result"
    }
   ],
   "source": [
    "se_curate.head()"
   ]
  },
  {
   "cell_type": "code",
   "execution_count": 2,
   "id": "2e95eca6-6e33-452c-a5e1-43cdaebc790d",
   "metadata": {
    "tags": []
   },
   "outputs": [
    {
     "data": {
      "text/html": [
       "<div>\n",
       "<style scoped>\n",
       "    .dataframe tbody tr th:only-of-type {\n",
       "        vertical-align: middle;\n",
       "    }\n",
       "\n",
       "    .dataframe tbody tr th {\n",
       "        vertical-align: top;\n",
       "    }\n",
       "\n",
       "    .dataframe thead th {\n",
       "        text-align: right;\n",
       "    }\n",
       "</style>\n",
       "<table border=\"1\" class=\"dataframe\">\n",
       "  <thead>\n",
       "    <tr style=\"text-align: right;\">\n",
       "      <th></th>\n",
       "      <th>ukb</th>\n",
       "    </tr>\n",
       "    <tr>\n",
       "      <th>se_name</th>\n",
       "      <th></th>\n",
       "    </tr>\n",
       "  </thead>\n",
       "  <tbody>\n",
       "    <tr>\n",
       "      <th>anaemia</th>\n",
       "      <td>Non-cancer illness code, self-reported: anaemia</td>\n",
       "    </tr>\n",
       "    <tr>\n",
       "      <th>arrhythmia</th>\n",
       "      <td>Non-cancer illness code, self-reported: heart ...</td>\n",
       "    </tr>\n",
       "    <tr>\n",
       "      <th>atrial fibrillation</th>\n",
       "      <td>Non-cancer illness code, self-reported: atrial...</td>\n",
       "    </tr>\n",
       "    <tr>\n",
       "      <th>back pain</th>\n",
       "      <td>Dorsalgia</td>\n",
       "    </tr>\n",
       "    <tr>\n",
       "      <th>bronchitis</th>\n",
       "      <td>Bronchitis</td>\n",
       "    </tr>\n",
       "  </tbody>\n",
       "</table>\n",
       "</div>"
      ],
      "text/plain": [
       "                                                                   ukb\n",
       "se_name                                                               \n",
       "anaemia                Non-cancer illness code, self-reported: anaemia\n",
       "arrhythmia           Non-cancer illness code, self-reported: heart ...\n",
       "atrial fibrillation  Non-cancer illness code, self-reported: atrial...\n",
       "back pain                                                    Dorsalgia\n",
       "bronchitis                                                  Bronchitis"
      ]
     },
     "execution_count": 2,
     "metadata": {},
     "output_type": "execute_result"
    }
   ],
   "source": [
    "match_se = se_curate.loc[:,['ukb','se_name']].drop_duplicates()\n",
    "match_se['se_name' ] = match_se['se_name'].str.lower()\n",
    "match_se = match_se.set_index('se_name')\n",
    "match_se.head()"
   ]
  },
  {
   "cell_type": "markdown",
   "id": "e73cee2c-d833-460c-8b5f-14e1a95e2257",
   "metadata": {},
   "source": [
    "## Curate Galeano"
   ]
  },
  {
   "cell_type": "markdown",
   "id": "d3e24a26-17ed-420b-9069-96b3ff9b954d",
   "metadata": {},
   "source": [
    "https://static-content.springer.com/esm/art%3A10.1038%2Fs41467-020-18305-y/MediaObjects/41467_2020_18305_MOESM2_ESM.pdf\n",
    "\n",
    "https://paccanarolab.org/drug-signatures/ saved in folder \"galeano\""
   ]
  },
  {
   "cell_type": "code",
   "execution_count": 13,
   "id": "6511bd18-84e2-4732-8cab-a46d093136e9",
   "metadata": {},
   "outputs": [],
   "source": [
    "s8 = pd.read_csv(\"galeano/Supplementary Data 8.txt\",sep=\"\\t\")\n",
    "s8.head()\n",
    "\n",
    "s7 = pd.read_csv(\"galeano/Supplementary Data 7.txt\",sep=\"\\t\")\n",
    "\n",
    "\n",
    "s7['generic2'] = s7['GenericName'].str.replace(\".\",\" \")\n",
    "\n",
    "s7_dedup = s7.loc[:,['CID','GenericName','generic2']].drop_duplicates()\n",
    "\n",
    "s8['cid'] = s7_dedup.set_index('generic2').loc[s8['GenericDrugName'],'CID'].values"
   ]
  },
  {
   "cell_type": "markdown",
   "id": "2204904e-e177-4f7a-b0be-01f07c6c469d",
   "metadata": {},
   "source": [
    "Our previous work matches the meddra terms to UKBiobank terms so we can make predictions"
   ]
  },
  {
   "cell_type": "code",
   "execution_count": 65,
   "id": "abbd59fa-7008-4780-bc82-cf83e70d0346",
   "metadata": {},
   "outputs": [],
   "source": [
    "s8_match = s8.loc[s8['SideEffectTerm'].isin(match_se.index),:].copy()\n",
    "s8_match['ukb'] = match_se.loc[s8_match['SideEffectTerm'],'ukb'].values\n",
    "\n",
    "s8_match.to_csv(\"evaluations/galeano_match_cid_ukb.txt\",sep=\"\\t\")"
   ]
  },
  {
   "cell_type": "markdown",
   "id": "3966a9b1-2ae5-4211-a392-40f4e59f0be0",
   "metadata": {},
   "source": [
    "## Drug voyager"
   ]
  },
  {
   "cell_type": "markdown",
   "id": "8e112051-a36f-496a-9dc6-e81df897ae5e",
   "metadata": {},
   "source": [
    "Took all of our pubchem identifiers and used the [Pubchem identifier exchange](https://pubchem.ncbi.nlm.nih.gov/idexchange/idexchange-help.html#inputid) to convert to drugbank to match DrugVoyager"
   ]
  },
  {
   "cell_type": "code",
   "execution_count": 73,
   "id": "2817cc7b-b0b9-435d-8c02-1c3f2f60e7f6",
   "metadata": {},
   "outputs": [],
   "source": [
    "dv_se = pd.read_excel('https://static-content.springer.com/esm/art%3A10.1186%2Fs12859-017-1558-3/MediaObjects/12859_2017_1558_MOESM3_ESM.xlsx')\n",
    "\n",
    "\n",
    "p2d = pd.read_table(\"pubchem2drugbank.txt\", header=None)\n",
    "ps2d = pd.read_table(\"pubchem_stereo_2_drugbank.txt\", header=None)\n",
    "\n",
    "se_curate['db'] = p2d.set_index(0).loc[se_curate['pubchem_cid'],1].values\n",
    "se_curate['pubchem2'] = se_curate.stitch_stereo.str.slice(3).map(int)\n",
    "se_curate['db'] = se_curate['db'].mask(pd.isnull(se_curate['db']), ps2d.set_index(0).loc[se_curate['pubchem2'],1].values)\n",
    "\n",
    "se_df = se_curate.loc[:,['UMLS_label','se_name','ukb']].drop_duplicates().set_index('UMLS_label')\n",
    "se_find = []\n",
    "nones = []\n",
    "mults = []\n",
    "se_names = []\n",
    "ukb = []\n",
    "db_match = []\n",
    "cuis_match = []\n",
    "for ix, row in dv_se.iterrows(): #enumerate(dv_se['Side Effect\\n(UMLS)']):\n",
    "    #cuis = set(cuilist.split(\",\"))  & set(se_df.index)\n",
    "    cuis = row['Side Effect\\n(UMLS)']\n",
    "    db = row['Drug\\n(DrugBank)']\n",
    "    if not cuis in se_df.index:\n",
    "        se_find.append('')\n",
    "        nones.append(ix)\n",
    "        se_names.append('')\n",
    "        ukb.append('')\n",
    "        db_match.append(db)\n",
    "        cuis_match.append(cuis)\n",
    "    else:\n",
    "        se = se_df.loc[cuis,:]\n",
    "        if len(se.shape) > 1:\n",
    "            mults.append(ix)\n",
    "            db_match += [db]*se.shape[1]\n",
    "            se_names += list(se['se_name'].values)\n",
    "            ukb += list(se['ukb'].values)\n",
    "            cuis_match += [cuis]*se.shape[1]\n",
    "        else:\n",
    "            db_match.append(db)\n",
    "            se_names.append(se['se_name'])\n",
    "            ukb.append(se['ukb'])\n",
    "            cuis_match.append(cuis)\n",
    "        se_find.append(se)\n",
    "        \n",
    "            \n",
    "\n",
    "se_dv_match = pd.DataFrame({'db':db_match,'se_names':se_names, 'ukb':ukb, 'cui':cuis_match})\n",
    "\n",
    "db2cid = se_curate.loc[:,['pubchem_cid','db']].drop_duplicates().set_index('db')['pubchem_cid']\n",
    "\n",
    "se_dv_match = pd.DataFrame({'db':db_match,'se_names':se_names, 'ukb':ukb, 'cui':cuis_match})\n",
    "\n",
    "se_dv_match = se_dv_match.loc[se_dv_match['db'].isin(set(db2cid.index)),:]\n",
    "se_dv_match['cid'] = db2cid.loc[se_dv_match['db']].values\n",
    "\n",
    "se_dv_match.to_csv(\"evaluations/drugvoyager_match.txt\",sep=\"\\t\")"
   ]
  },
  {
   "cell_type": "code",
   "execution_count": null,
   "id": "1274dc7c-5758-4947-ad1c-e9f2fa479f8d",
   "metadata": {},
   "outputs": [],
   "source": []
  }
 ],
 "metadata": {
  "kernelspec": {
   "display_name": "Python 3 (ipykernel)",
   "language": "python",
   "name": "python3"
  },
  "language_info": {
   "codemirror_mode": {
    "name": "ipython",
    "version": 3
   },
   "file_extension": ".py",
   "mimetype": "text/x-python",
   "name": "python",
   "nbconvert_exporter": "python",
   "pygments_lexer": "ipython3",
   "version": "3.11.0"
  }
 },
 "nbformat": 4,
 "nbformat_minor": 5
}
