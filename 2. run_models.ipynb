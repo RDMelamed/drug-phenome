{
 "cells": [
  {
   "cell_type": "markdown",
   "id": "universal-lightweight",
   "metadata": {},
   "source": [
    "Given the matrices created in the `1. curate_data.ipynb` now we:\n",
    "- Find the best cross-validation hyperparameters\n",
    "- Run the regression to create $W$\n",
    "- Run the randomized fittings to create $\\tilde{W}$ (100 times)\n",
    "- Create the projection matrices\n",
    "\n",
    "NOTE That taking the Kronecker product $P \\otimes D $ (or in our case $V_P \\otimes U_DS_D $ results in a matrix of size:\n",
    "- number of rows = **421 or 429** drugs x **197** phenotypes = **84513** rows\n",
    "- number of columns = **246** rank of reduced SoftImpute $U_DS_D$   x **197** rank of $V_P$ (without truncation) = **48462** columns\n",
    "  - the ranks of each of these matrices are reduced by cross validated selection of the ranks of $U_DS_D$ and $V_P$ with the best performance on held out drugs\n",
    "\n",
    "This matrix is very large and requires a large memory usage, unless you set stringent values for truncation of the variance. To just test the code you can reduce the dimension using the `test` input which will just take the first 10 phenotypes and 12 drugs, which does not give a valid result but will not take a lot of memory."
   ]
  },
  {
   "cell_type": "code",
   "execution_count": 2,
   "id": "danish-kingston",
   "metadata": {},
   "outputs": [
    {
     "data": {
      "text/plain": [
       "48462"
      ]
     },
     "execution_count": 2,
     "metadata": {},
     "output_type": "execute_result"
    }
   ],
   "source": [
    "246*197"
   ]
  },
  {
   "cell_type": "code",
   "execution_count": null,
   "id": "alien-panama",
   "metadata": {},
   "outputs": [],
   "source": [
    "outfile='testdir/testfiles'\n",
    "pfile='data_for_regression/multixcan_res_10027.txt'\n",
    "dfile='data_for_regression/epa.txt'\n",
    "yfile='data_for_regression/sider_y.txt'\n",
    "usfile='data_for_regression/US.txt'\n",
    "ufile='data_for_regression/U.txt'\n",
    "test='test'\n",
    "mkdir testdir\n",
    "python code/tune2.py  $pfile $yfile $dfile $usfile $ufile $outfile $test"
   ]
  },
  {
   "cell_type": "code",
   "execution_count": null,
   "id": "hawaiian-bench",
   "metadata": {},
   "outputs": [],
   "source": [
    "module load anaconda3/2019.03"
   ]
  },
  {
   "cell_type": "markdown",
   "id": "handy-interpretation",
   "metadata": {},
   "source": [
    "Predict on held-out drugs (20-fold splits)"
   ]
  },
  {
   "cell_type": "code",
   "execution_count": null,
   "id": "worldwide-intro",
   "metadata": {},
   "outputs": [],
   "source": [
    "\n",
    "python code/leaveout_predict.py  $pfile $yfile $dfile $usfile $ufile leaveout $test $hyperparam"
   ]
  },
  {
   "cell_type": "markdown",
   "id": "robust-outside",
   "metadata": {},
   "source": [
    "Then, creation of the \"scrambled Y\" version of the learned matrix and projection of learned matrix back to space of disease genome."
   ]
  },
  {
   "cell_type": "code",
   "execution_count": null,
   "id": "first-munich",
   "metadata": {},
   "outputs": [],
   "source": [
    "hyperparam='testdir/testfiles_param.txt'\n",
    "outfile='scrambles/'\n",
    "mkdir $outfile\n",
    "python code/scramble_Y_fit.py  $pfile $yfile $dfile $usfile $ufile $outfile $test $hyperparam"
   ]
  }
 ],
 "metadata": {
  "kernelspec": {
   "display_name": "Python 3",
   "language": "python",
   "name": "python3"
  },
  "language_info": {
   "codemirror_mode": {
    "name": "ipython",
    "version": 3
   },
   "file_extension": ".py",
   "mimetype": "text/x-python",
   "name": "python",
   "nbconvert_exporter": "python",
   "pygments_lexer": "ipython3",
   "version": "3.6.3"
  }
 },
 "nbformat": 4,
 "nbformat_minor": 5
}
