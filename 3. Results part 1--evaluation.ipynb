{
 "cells": [
  {
   "cell_type": "markdown",
   "id": "genuine-powder",
   "metadata": {},
   "source": [
    "In this file, we present the calculations analyzing the input data and analyzing the predictions of drug phenotype effects.\n",
    "\n",
    "First we load in the files we made in notebook `1. curate_data.ipynb`"
   ]
  },
  {
   "cell_type": "code",
   "execution_count": 1,
   "id": "robust-somerset",
   "metadata": {},
   "outputs": [
    {
     "name": "stdout",
     "output_type": "stream",
     "text": [
      "usfile is  data_for_regression/US.txt\n"
     ]
    }
   ],
   "source": [
    "outfile='testdir/testfiles'\n",
    "pfile='data_for_regression/multixcan_res_10027.txt'\n",
    "dfile='data_for_regression/epa.txt'\n",
    "yfile='data_for_regression/sider_y.txt'\n",
    "usfile='data_for_regression/US.txt'\n",
    "ufile='data_for_regression/U.txt'\n",
    "test='test'\n",
    "import sys\n",
    "sys.path.append(\"code/\")\n",
    "import setup_data\n",
    "P, Ymat, Yalign, US, U, UB, SB, VB, make_L = setup_data.setup(pfile, yfile, dfile, usfile, ufile, False)"
   ]
  },
  {
   "cell_type": "markdown",
   "id": "sealed-newfoundland",
   "metadata": {},
   "source": [
    "## Results \"3.1 Data curation and initial assessment\"\n",
    "SEt up the pairwise comparisons"
   ]
  },
  {
   "cell_type": "code",
   "execution_count": 4,
   "id": "chicken-patrol",
   "metadata": {},
   "outputs": [],
   "source": [
    "from sklearn.metrics import pairwise_distances\n",
    "from scipy import stats\n",
    "from my_util import upper_tri"
   ]
  },
  {
   "cell_type": "markdown",
   "id": "affiliated-directive",
   "metadata": {},
   "source": [
    "### Statistical test of similarity of *diseases* in terms of drugs associated vs in terms of genetic regulation\n",
    "Loading in processed `Ymat` (side effects) and PhenomXcan `P` (phenotype genetic regulation)"
   ]
  },
  {
   "cell_type": "code",
   "execution_count": 10,
   "id": "8e813790-da30-4e03-ab2f-885510e5621d",
   "metadata": {},
   "outputs": [
    {
     "data": {
      "text/plain": [
       "SpearmanrResult(correlation=-0.11039370900920706, pvalue=2.0696576031480833e-53)"
      ]
     },
     "execution_count": 10,
     "metadata": {},
     "output_type": "execute_result"
    }
   ],
   "source": [
    "\n",
    "jacc_disease_drug_sim = pd.DataFrame(pairwise_distances(Ymat.transpose().values==1,metric='jaccard'),\n",
    "                       index=Ymat.columns,columns=Ymat.columns)\n",
    "\n",
    "\n",
    "pcors = P.loc[:,Ymat.columns].corr(method='spearman')\n",
    "\n",
    "\n",
    "pcors = upper_tri(pcors) #ttc.loc[ptstack.index, ptstack.index])\n",
    "\n",
    "\n",
    "stats.spearmanr(upper_tri(jacc_disease_drug_sim),pcors)"
   ]
  },
  {
   "cell_type": "markdown",
   "id": "composed-reputation",
   "metadata": {},
   "source": [
    "### Figure 1A"
   ]
  },
  {
   "cell_type": "code",
   "execution_count": 12,
   "id": "63b58a24-2cdb-4d00-ad1a-8eaf79f4a03f",
   "metadata": {},
   "outputs": [
    {
     "data": {
      "image/png": "[encoded data removed]",
      "text/plain": [
       "<Figure size 300x300 with 1 Axes>"
      ]
     },
     "metadata": {},
     "output_type": "display_data"
    }
   ],
   "source": [
    "import matplotlib.pyplot as plt\n",
    "\n",
    "f,ax = plt.subplots(1,figsize=(3,3))\n",
    "ax.plot(upper_tri(jacc_disease_drug_sim),pcors ,'.')\n",
    "ax.set_xlabel(\"disease Jaccard distance\\n(overlap of drugs)\")\n",
    "ax.set_ylabel(\"disease genetic regulation similarity\\n(PhenomeXcan)\")\n",
    "ax.spines['right'].set_visible(False)\n",
    "ax.spines['top'].set_visible(False)\n",
    "f.savefig(\"figs/disease_similarity_measures.png\",bbox_inches='tight',dpi=300)"
   ]
  },
  {
   "cell_type": "markdown",
   "id": "overhead-brunei",
   "metadata": {},
   "source": [
    "### Statistical test of similarity of *drugs* in terms of EPA endpoints vs phenotype side effects\n",
    "Now:\n",
    "- load in EPA\n",
    "- get pairwise Spearman correlation of endpoints (dropping missing) = drug endpoint similarity\n",
    "- get jaccard similarity of the drugs\n",
    "- then compare these 2 measures of similarity"
   ]
  },
  {
   "cell_type": "code",
   "execution_count": 21,
   "id": "wired-description",
   "metadata": {},
   "outputs": [
    {
     "name": "stderr",
     "output_type": "stream",
     "text": [
      "/share/pkg/python3/3.6_intel_pu3_2018.3.039/intelpython3/lib/python3.6/site-packages/scipy/stats/stats.py:4196: SpearmanRConstantInputWarning: An input array is constant; the correlation coefficent is not defined.\n",
      "  warnings.warn(SpearmanRConstantInputWarning())\n"
     ]
    },
    {
     "data": {
      "text/plain": [
       "SpearmanrResult(correlation=-0.03373741128515219, pvalue=6.475781341553099e-24)"
      ]
     },
     "execution_count": 21,
     "metadata": {},
     "output_type": "execute_result"
    }
   ],
   "source": [
    "\n",
    "\n",
    "### load in EPA and make it into a matrix\n",
    "epa = pd.read_table(\"intermediate_files/epa_compiled.txt.gz\",sep=\"\\t\",index_col=0)\n",
    "xstk = epa.loc[:,['cid','aenm','hit_pct']].set_index(['cid','aenm']).sort_index().transpose().stack('aenm')\n",
    "#xstk = xstk.droplevel(0,0)\n",
    "xstk.index = xstk.index.droplevel(0)\n",
    "col = xstk.columns\n",
    "\n",
    "def spea(x,y):\n",
    "    sel = (x > -1) & (y>-1)\n",
    "    return stats.spearmanr(x[sel], y[sel])[0]\n",
    "\n",
    "spe = pd.DataFrame(pairwise_distances(xstk.transpose().fillna(-1) ,metric=spea),index=col,columns=col)\n",
    "\n",
    "### load in side effects, again make it into a matrix\n",
    "sider = pd.read_csv(\"input_data/meddra_all_se.tsv.gz\",sep=\"\\t\",header=None)\n",
    "sider['cid'] = sider[0].str.slice(4).map(int) ## get pubchem ID\n",
    "sider_matched_filter = sider.loc[sider['cid'].isin(set(epa['cid'])) ,:] ## match to EPA pubchem ID\n",
    "sider_matched_filter.columns = ['stitch_flat','stitch_stereo','UMLS_label', 'type','meddra','se_name','pubchem_cid']\n",
    "pt = sider_matched_filter.loc[sider_matched_filter['type']=='PT',].drop_duplicates(['pubchem_cid','meddra']).copy()\n",
    "\n",
    "pt['ae'] = 1\n",
    "ptstack = pt.loc[:,['pubchem_cid','se_name','ae']].drop_duplicates(['pubchem_cid','se_name']).set_index(['pubchem_cid','se_name']).sort_index() #.unstack().shape\n",
    "ptstack = ptstack.transpose().stack('se_name') ## make into matrix form\n",
    "ptstack = ptstack.mask(pd.isnull(ptstack), other=0)\n",
    "ptstack.index = ptstack.index.droplevel(0)\n",
    "ptstack = ptstack.loc[ptstack.sum(axis=1) < 200,:] # removed anything very nonspecific\n",
    "\n",
    "### \n",
    "drug_phesim = pd.DataFrame(pairwise_distances(pd.DataFrame(ptstack.transpose(),dtype=bool),metric='jaccard'),index=ptstack.columns,columns=ptstack.columns)\n",
    "drug_phesim = upper_tri(drug_phesim.loc[spe.index, spe.index])\n",
    "drug_epa_sim = upper_tri(spe)\n",
    "x = drug_epa_sim.index.intersection(drug_phesim.index)\n",
    "stats.spearmanr(drug_phesim.loc[x], drug_epa_sim.loc[x])\n"
   ]
  },
  {
   "cell_type": "markdown",
   "id": "palestinian-macedonia",
   "metadata": {},
   "source": [
    "Linear regression analysis"
   ]
  },
  {
   "cell_type": "code",
   "execution_count": 59,
   "id": "rough-simon",
   "metadata": {},
   "outputs": [
    {
     "data": {
      "text/html": [
       "<table class=\"simpletable\">\n",
       "<caption>OLS Regression Results</caption>\n",
       "<tr>\n",
       "  <th>Dep. Variable:</th>            <td>j</td>        <th>  R-squared:         </th>  <td>   0.003</td> \n",
       "</tr>\n",
       "<tr>\n",
       "  <th>Model:</th>                   <td>OLS</td>       <th>  Adj. R-squared:    </th>  <td>   0.003</td> \n",
       "</tr>\n",
       "<tr>\n",
       "  <th>Method:</th>             <td>Least Squares</td>  <th>  F-statistic:       </th>  <td>   118.7</td> \n",
       "</tr>\n",
       "<tr>\n",
       "  <th>Date:</th>             <td>Mon, 17 Apr 2023</td> <th>  Prob (F-statistic):</th>  <td>3.24e-52</td> \n",
       "</tr>\n",
       "<tr>\n",
       "  <th>Time:</th>                 <td>21:17:52</td>     <th>  Log-Likelihood:    </th> <td>1.1524e+05</td>\n",
       "</tr>\n",
       "<tr>\n",
       "  <th>No. Observations:</th>      <td> 89298</td>      <th>  AIC:               </th> <td>-2.305e+05</td>\n",
       "</tr>\n",
       "<tr>\n",
       "  <th>Df Residuals:</th>          <td> 89295</td>      <th>  BIC:               </th> <td>-2.304e+05</td>\n",
       "</tr>\n",
       "<tr>\n",
       "  <th>Df Model:</th>              <td>     2</td>      <th>                     </th>      <td> </td>    \n",
       "</tr>\n",
       "<tr>\n",
       "  <th>Covariance Type:</th>      <td>nonrobust</td>    <th>                     </th>      <td> </td>    \n",
       "</tr>\n",
       "</table>\n",
       "<table class=\"simpletable\">\n",
       "<tr>\n",
       "     <td></td>        <th>coef</th>     <th>std err</th>      <th>t</th>      <th>P>|t|</th>  <th>[0.025</th>    <th>0.975]</th>  \n",
       "</tr>\n",
       "<tr>\n",
       "  <th>const</th>   <td>    0.9291</td> <td>    0.001</td> <td> 1653.840</td> <td> 0.000</td> <td>    0.928</td> <td>    0.930</td>\n",
       "</tr>\n",
       "<tr>\n",
       "  <th>num_nna</th> <td> 1.568e-05</td> <td> 2.05e-06</td> <td>    7.661</td> <td> 0.000</td> <td> 1.17e-05</td> <td> 1.97e-05</td>\n",
       "</tr>\n",
       "<tr>\n",
       "  <th>spe</th>     <td>   -0.0234</td> <td>    0.002</td> <td>  -13.835</td> <td> 0.000</td> <td>   -0.027</td> <td>   -0.020</td>\n",
       "</tr>\n",
       "</table>\n",
       "<table class=\"simpletable\">\n",
       "<tr>\n",
       "  <th>Omnibus:</th>       <td>25096.727</td> <th>  Durbin-Watson:     </th> <td>   1.243</td> \n",
       "</tr>\n",
       "<tr>\n",
       "  <th>Prob(Omnibus):</th>  <td> 0.000</td>   <th>  Jarque-Bera (JB):  </th> <td>80776.347</td>\n",
       "</tr>\n",
       "<tr>\n",
       "  <th>Skew:</th>           <td>-1.433</td>   <th>  Prob(JB):          </th> <td>    0.00</td> \n",
       "</tr>\n",
       "<tr>\n",
       "  <th>Kurtosis:</th>       <td> 6.673</td>   <th>  Cond. No.          </th> <td>1.84e+03</td> \n",
       "</tr>\n",
       "</table><br/><br/>Notes:<br/>[1] Standard Errors assume that the covariance matrix of the errors is correctly specified.<br/>[2] The condition number is large, 1.84e+03. This might indicate that there are<br/>strong multicollinearity or other numerical problems."
      ],
      "text/plain": [
       "<class 'statsmodels.iolib.summary.Summary'>\n",
       "\"\"\"\n",
       "                            OLS Regression Results                            \n",
       "==============================================================================\n",
       "Dep. Variable:                      j   R-squared:                       0.003\n",
       "Model:                            OLS   Adj. R-squared:                  0.003\n",
       "Method:                 Least Squares   F-statistic:                     118.7\n",
       "Date:                Mon, 17 Apr 2023   Prob (F-statistic):           3.24e-52\n",
       "Time:                        21:17:52   Log-Likelihood:             1.1524e+05\n",
       "No. Observations:               89298   AIC:                        -2.305e+05\n",
       "Df Residuals:                   89295   BIC:                        -2.304e+05\n",
       "Df Model:                           2                                         \n",
       "Covariance Type:            nonrobust                                         \n",
       "==============================================================================\n",
       "                 coef    std err          t      P>|t|      [0.025      0.975]\n",
       "------------------------------------------------------------------------------\n",
       "const          0.9291      0.001   1653.840      0.000       0.928       0.930\n",
       "num_nna     1.568e-05   2.05e-06      7.661      0.000    1.17e-05    1.97e-05\n",
       "spe           -0.0234      0.002    -13.835      0.000      -0.027      -0.020\n",
       "==============================================================================\n",
       "Omnibus:                    25096.727   Durbin-Watson:                   1.243\n",
       "Prob(Omnibus):                  0.000   Jarque-Bera (JB):            80776.347\n",
       "Skew:                          -1.433   Prob(JB):                         0.00\n",
       "Kurtosis:                       6.673   Cond. No.                     1.84e+03\n",
       "==============================================================================\n",
       "\n",
       "Notes:\n",
       "[1] Standard Errors assume that the covariance matrix of the errors is correctly specified.\n",
       "[2] The condition number is large, 1.84e+03. This might indicate that there are\n",
       "strong multicollinearity or other numerical problems.\n",
       "\"\"\""
      ]
     },
     "execution_count": 59,
     "metadata": {},
     "output_type": "execute_result"
    }
   ],
   "source": [
    "def nna(x,y):\n",
    "    return sum((x > -1) & (y > -1))\n",
    "    #return stats.spearmanr(x[sel], y[sel])[0]\n",
    "nnan = pd.DataFrame(pairwise_distances(xstk.transpose().fillna(-1),metric=nna),index=col,columns=col)\n",
    "nnas = upper_tri(nnan.loc[spe.index, spe.index])\n",
    "import statsmodels.api as sm\n",
    "df = pd.DataFrame({'j':drug_phesim.loc[x],'num_nna':nnas.loc[x],'spe':drug_epa_sim.loc[x]})\n",
    "df = sm.add_constant(df)\n",
    "mod = sm.OLS(df['j'],df.drop('j',axis=1)).fit()\n",
    "mod.summary()"
   ]
  },
  {
   "cell_type": "code",
   "execution_count": 60,
   "id": "middle-ordering",
   "metadata": {},
   "outputs": [
    {
     "data": {
      "text/plain": [
       "const      0.000000e+00\n",
       "num_nna    1.861201e-14\n",
       "spe        1.748472e-43\n",
       "dtype: float64"
      ]
     },
     "execution_count": 60,
     "metadata": {},
     "output_type": "execute_result"
    }
   ],
   "source": [
    "mod.pvalues"
   ]
  },
  {
   "cell_type": "markdown",
   "id": "august-authorization",
   "metadata": {},
   "source": [
    "## Results \"3.2 Assessment of the model's predictive performance\"\n",
    "\n",
    "Here, we do analysis of the $W$ matrix and its predictions, from the results of `2. run_models.ipynb`.\n",
    "\n"
   ]
  },
  {
   "cell_type": "markdown",
   "id": "nutritional-suicide",
   "metadata": {},
   "source": [
    "### Figure 2A: Prediction distances\n",
    "Load in the results of the held out drug analysis-- then compare to the nearest drug in terms of input distance (in $U_DS_D$).\n",
    "\n",
    "Then just plot the values -- each point is one drug"
   ]
  },
  {
   "cell_type": "code",
   "execution_count": 3,
   "id": "above-monaco",
   "metadata": {},
   "outputs": [],
   "source": [
    "### held out drug predictions \n",
    "leaveout = pd.read_csv('results/Ypred_leaveout_multix.txt',sep=\"\\t\",index_col=0)\n",
    "leaveout = leaveout.loc[Ymat.index.map(int), Ymat.columns]\n",
    "leaveout.index = Ymat.index\n",
    "\n",
    "### nearest drug in drug EPA reduced space\n",
    "corr = US.transpose().corr(method='spearman') - np.eye(US.shape[0])\n",
    "max_ix = corr.idxmax(axis=1)\n",
    "nn_pred = Ymat.loc[max_ix,:]\n",
    "nn_pred.index = Ymat.index\n",
    "\n",
    "### get Jaccard distance (higher = further) from true data Ymat to these 2 types of predictions\n",
    "from scipy.spatial import distance\n",
    "jaccard_dist_nn = pd.concat((nn_pred, Ymat),axis=1).apply(lambda x: distance.jaccard(x[:nn_pred.shape[1]], \n",
    "                                                                                       x[nn_pred.shape[1]:]),axis=1)\n",
    "\n",
    "jaccard_dist_lo = pd.concat((leaveout, Ymat),axis=1).apply(lambda x: distance.jaccard(x[:nn_pred.shape[1]], \n",
    "                                                                                       x[nn_pred.shape[1]:]),axis=1)"
   ]
  },
  {
   "cell_type": "code",
   "execution_count": 6,
   "id": "dress-cargo",
   "metadata": {},
   "outputs": [
    {
     "data": {
      "image/png": "[encoded data removed]",
      "text/plain": [
       "<Figure size 200x200 with 1 Axes>"
      ]
     },
     "metadata": {},
     "output_type": "display_data"
    }
   ],
   "source": [
    "import matplotlib.pyplot as plt\n",
    "\n",
    "f,ax = plt.subplots(1,figsize=(2,2))\n",
    "ax.plot(jaccard_dist_nn,jaccard_dist_lo ,'.')\n",
    "ax.plot([.4,1],[.4,1],':')\n",
    "ax.set_xlim(.3,1.05)\n",
    "ax.set_ylim(.3,1.05)\n",
    "ax.set_xticks([.5,.75,1])\n",
    "ax.set_yticks([.5,.75,1])\n",
    "ax.set_xlabel(\"nearest neighbor distance\")\n",
    "ax.set_ylabel(\"prediction distance\")\n",
    "ax.spines['right'].set_visible(False)\n",
    "ax.spines['top'].set_visible(False)\n",
    "f.savefig(\"nearest_neighbor_hold_outpredictions.pdf\",bbox_inches='tight')"
   ]
  },
  {
   "cell_type": "code",
   "execution_count": 5,
   "id": "38d3c9c2-34e3-4879-94df-6f5553d2c398",
   "metadata": {},
   "outputs": [
    {
     "data": {
      "text/plain": [
       "RanksumsResult(statistic=5.535870513935947, pvalue=3.096863053871949e-08)"
      ]
     },
     "execution_count": 5,
     "metadata": {},
     "output_type": "execute_result"
    }
   ],
   "source": [
    "stats.ranksums(jaccard_dist_nn,jaccard_dist_lo )"
   ]
  },
  {
   "cell_type": "markdown",
   "id": "amended-hopkins",
   "metadata": {},
   "source": [
    "### Predictions discussed in this section\n",
    "Obtain predictions: model was fit as $V_P \\otimes U_DS_D \\dot W_{DP} = Y $ so multiplying these together gives predictions (without intercept)\n",
    "- $ U_DS_D$ reduced drug endpoint space\n",
    "- $ U_DS_DW_{DP}$ mapping drug endpoints to projected effects on reduced phenome space\n",
    "- $ U_DS_DW_{DP}V_P$ full predictions"
   ]
  },
  {
   "cell_type": "code",
   "execution_count": 4,
   "id": "orange-engineering",
   "metadata": {},
   "outputs": [
    {
     "ename": "ModuleNotFoundError",
     "evalue": "No module named 'sklearn.linear_model.logistic'",
     "output_type": "error",
     "traceback": [
      "\u001b[0;31m---------------------------------------------------------------------------\u001b[0m",
      "\u001b[0;31mModuleNotFoundError\u001b[0m                       Traceback (most recent call last)",
      "\u001b[0;32m/scratch/astroth-cpu001/7270535/ipykernel_1147734/177896511.py\u001b[0m in \u001b[0;36m<module>\u001b[0;34m\u001b[0m\n\u001b[1;32m      8\u001b[0m \u001b[0mU_DS_DdotW\u001b[0m \u001b[0;34m=\u001b[0m \u001b[0mUS\u001b[0m\u001b[0;34m.\u001b[0m\u001b[0miloc\u001b[0m\u001b[0;34m[\u001b[0m\u001b[0;34m:\u001b[0m\u001b[0;34m,\u001b[0m\u001b[0;34m:\u001b[0m\u001b[0mW\u001b[0m\u001b[0;34m.\u001b[0m\u001b[0mshape\u001b[0m\u001b[0;34m[\u001b[0m\u001b[0;36m0\u001b[0m\u001b[0;34m]\u001b[0m\u001b[0;34m]\u001b[0m\u001b[0;34m.\u001b[0m\u001b[0mdot\u001b[0m\u001b[0;34m(\u001b[0m\u001b[0mW\u001b[0m\u001b[0;34m)\u001b[0m\u001b[0;34m.\u001b[0m\u001b[0mrename\u001b[0m\u001b[0;34m(\u001b[0m\u001b[0mid2name\u001b[0m\u001b[0;34m)\u001b[0m\u001b[0;34m\u001b[0m\u001b[0;34m\u001b[0m\u001b[0m\n\u001b[1;32m      9\u001b[0m \u001b[0;34m\u001b[0m\u001b[0m\n\u001b[0;32m---> 10\u001b[0;31m \u001b[0mmod_red\u001b[0m \u001b[0;34m=\u001b[0m \u001b[0mpickle\u001b[0m\u001b[0;34m.\u001b[0m\u001b[0mload\u001b[0m\u001b[0;34m(\u001b[0m\u001b[0mopen\u001b[0m\u001b[0;34m(\u001b[0m\u001b[0mresult_files\u001b[0m \u001b[0;34m+\u001b[0m \u001b[0;34m'_lr.pkl'\u001b[0m\u001b[0;34m,\u001b[0m\u001b[0;34m'rb'\u001b[0m\u001b[0;34m)\u001b[0m\u001b[0;34m)\u001b[0m\u001b[0;34m\u001b[0m\u001b[0;34m\u001b[0m\u001b[0m\n\u001b[0m\u001b[1;32m     11\u001b[0m \u001b[0mVP\u001b[0m \u001b[0;34m=\u001b[0m \u001b[0mpd\u001b[0m\u001b[0;34m.\u001b[0m\u001b[0mread_table\u001b[0m\u001b[0;34m(\u001b[0m\u001b[0mresult_files\u001b[0m \u001b[0;34m+\u001b[0m \u001b[0;34m'_VB.txt'\u001b[0m\u001b[0;34m,\u001b[0m\u001b[0mindex_col\u001b[0m\u001b[0;34m=\u001b[0m\u001b[0;36m0\u001b[0m\u001b[0;34m)\u001b[0m\u001b[0;34m\u001b[0m\u001b[0;34m\u001b[0m\u001b[0m\n\u001b[1;32m     12\u001b[0m \u001b[0;34m\u001b[0m\u001b[0m\n",
      "\u001b[0;31mModuleNotFoundError\u001b[0m: No module named 'sklearn.linear_model.logistic'"
     ]
    }
   ],
   "source": [
    "names = pd.read_table(\"input_data/pubchem_names\",header=None)\n",
    "names[0] = names[0].map(str)\n",
    "id2name = names.set_index(0).transpose().loc[1,:].to_dict()\n",
    "name2id = names.set_index(1).transpose().loc[0,:].to_dict()\n",
    "\n",
    "result_files = 'results/indications'\n",
    "W = pd.read_table(result_files+ \"_W.txt\",index_col=0)\n",
    "U_DS_DdotW = US.iloc[:,:W.shape[0]].dot(W).rename(id2name)\n",
    "\n",
    "mod_red = pickle.load(open(result_files + '_lr.pkl','rb'))\n",
    "VP = pd.read_table(result_files + '_VB.txt',index_col=0)\n",
    "\n",
    "### predictions = $ U_DS_DW_{DP}V_P$ + intercepts\n",
    "pred_red = U_DS_DdotW @ VP.transpose() + mod_red.intercept_[0]\n",
    "\n",
    "pred_read.to_csv(\"results/indication_predictions.txt\",sep=\"\\t\")"
   ]
  },
  {
   "cell_type": "code",
   "execution_count": 7,
   "id": "beginning-theater",
   "metadata": {},
   "outputs": [
    {
     "data": {
      "text/plain": [
       "'1.0.2'"
      ]
     },
     "execution_count": 7,
     "metadata": {},
     "output_type": "execute_result"
    }
   ],
   "source": [
    "sklearn.__version__"
   ]
  },
  {
   "cell_type": "code",
   "execution_count": 18,
   "id": "imposed-fifth",
   "metadata": {},
   "outputs": [
    {
     "data": {
      "text/html": [
       "<div>\n",
       "<style scoped>\n",
       "    .dataframe tbody tr th:only-of-type {\n",
       "        vertical-align: middle;\n",
       "    }\n",
       "\n",
       "    .dataframe tbody tr th {\n",
       "        vertical-align: top;\n",
       "    }\n",
       "\n",
       "    .dataframe thead th {\n",
       "        text-align: right;\n",
       "    }\n",
       "</style>\n",
       "<table border=\"1\" class=\"dataframe\">\n",
       "  <thead>\n",
       "    <tr style=\"text-align: right;\">\n",
       "      <th></th>\n",
       "      <th>gamma-Aminobutyric acid</th>\n",
       "      <th>Benzyl Alcohol</th>\n",
       "      <th>Betaine</th>\n",
       "      <th>Citric Acid</th>\n",
       "      <th>Salicylic Acid</th>\n",
       "      <th>Aminocaproic acid</th>\n",
       "      <th>Lactic Acid</th>\n",
       "      <th>Dimethyl Sulfoxide</th>\n",
       "      <th>Dopamine</th>\n",
       "      <th>Ethanolamine</th>\n",
       "      <th>...</th>\n",
       "      <th>Ethionamide</th>\n",
       "      <th>Prucalopride</th>\n",
       "      <th>Dasatinib</th>\n",
       "      <th>Vandetanib</th>\n",
       "      <th>Tolcapone</th>\n",
       "      <th>Acipimox</th>\n",
       "      <th>5-chloro-N-({2-oxo-3-[4-(3-oxomorpholin-4-yl)phenyl]-1,3-oxazolidin-5-yl}methyl)thiophene-2-carboxamide</th>\n",
       "      <th>Everolimus</th>\n",
       "      <th>Pazopanib</th>\n",
       "      <th>Carfilzomib</th>\n",
       "    </tr>\n",
       "    <tr>\n",
       "      <th>se_name</th>\n",
       "      <th></th>\n",
       "      <th></th>\n",
       "      <th></th>\n",
       "      <th></th>\n",
       "      <th></th>\n",
       "      <th></th>\n",
       "      <th></th>\n",
       "      <th></th>\n",
       "      <th></th>\n",
       "      <th></th>\n",
       "      <th></th>\n",
       "      <th></th>\n",
       "      <th></th>\n",
       "      <th></th>\n",
       "      <th></th>\n",
       "      <th></th>\n",
       "      <th></th>\n",
       "      <th></th>\n",
       "      <th></th>\n",
       "      <th></th>\n",
       "      <th></th>\n",
       "    </tr>\n",
       "  </thead>\n",
       "  <tbody>\n",
       "    <tr>\n",
       "      <th>#Arthrosis</th>\n",
       "      <td>0.0</td>\n",
       "      <td>0.0</td>\n",
       "      <td>0.0</td>\n",
       "      <td>0.0</td>\n",
       "      <td>0.0</td>\n",
       "      <td>0.0</td>\n",
       "      <td>0.0</td>\n",
       "      <td>0.0</td>\n",
       "      <td>0.0</td>\n",
       "      <td>0.0</td>\n",
       "      <td>...</td>\n",
       "      <td>0.0</td>\n",
       "      <td>0.0</td>\n",
       "      <td>0.0</td>\n",
       "      <td>0.0</td>\n",
       "      <td>0.0</td>\n",
       "      <td>0.0</td>\n",
       "      <td>0.0</td>\n",
       "      <td>0.0</td>\n",
       "      <td>0.0</td>\n",
       "      <td>0.0</td>\n",
       "    </tr>\n",
       "    <tr>\n",
       "      <th>AV-block</th>\n",
       "      <td>0.0</td>\n",
       "      <td>0.0</td>\n",
       "      <td>0.0</td>\n",
       "      <td>0.0</td>\n",
       "      <td>0.0</td>\n",
       "      <td>0.0</td>\n",
       "      <td>0.0</td>\n",
       "      <td>0.0</td>\n",
       "      <td>0.0</td>\n",
       "      <td>0.0</td>\n",
       "      <td>...</td>\n",
       "      <td>0.0</td>\n",
       "      <td>0.0</td>\n",
       "      <td>0.0</td>\n",
       "      <td>0.0</td>\n",
       "      <td>0.0</td>\n",
       "      <td>0.0</td>\n",
       "      <td>0.0</td>\n",
       "      <td>0.0</td>\n",
       "      <td>0.0</td>\n",
       "      <td>0.0</td>\n",
       "    </tr>\n",
       "    <tr>\n",
       "      <th>Actinic keratosis</th>\n",
       "      <td>0.0</td>\n",
       "      <td>0.0</td>\n",
       "      <td>0.0</td>\n",
       "      <td>0.0</td>\n",
       "      <td>0.0</td>\n",
       "      <td>0.0</td>\n",
       "      <td>0.0</td>\n",
       "      <td>0.0</td>\n",
       "      <td>0.0</td>\n",
       "      <td>0.0</td>\n",
       "      <td>...</td>\n",
       "      <td>0.0</td>\n",
       "      <td>0.0</td>\n",
       "      <td>0.0</td>\n",
       "      <td>0.0</td>\n",
       "      <td>0.0</td>\n",
       "      <td>0.0</td>\n",
       "      <td>0.0</td>\n",
       "      <td>0.0</td>\n",
       "      <td>0.0</td>\n",
       "      <td>0.0</td>\n",
       "    </tr>\n",
       "    <tr>\n",
       "      <th>Anxiety disorders</th>\n",
       "      <td>0.0</td>\n",
       "      <td>0.0</td>\n",
       "      <td>0.0</td>\n",
       "      <td>0.0</td>\n",
       "      <td>0.0</td>\n",
       "      <td>0.0</td>\n",
       "      <td>0.0</td>\n",
       "      <td>0.0</td>\n",
       "      <td>0.0</td>\n",
       "      <td>0.0</td>\n",
       "      <td>...</td>\n",
       "      <td>0.0</td>\n",
       "      <td>0.0</td>\n",
       "      <td>0.0</td>\n",
       "      <td>0.0</td>\n",
       "      <td>0.0</td>\n",
       "      <td>0.0</td>\n",
       "      <td>0.0</td>\n",
       "      <td>0.0</td>\n",
       "      <td>0.0</td>\n",
       "      <td>0.0</td>\n",
       "    </tr>\n",
       "    <tr>\n",
       "      <th>Breast Cancer</th>\n",
       "      <td>0.0</td>\n",
       "      <td>0.0</td>\n",
       "      <td>0.0</td>\n",
       "      <td>0.0</td>\n",
       "      <td>0.0</td>\n",
       "      <td>0.0</td>\n",
       "      <td>0.0</td>\n",
       "      <td>0.0</td>\n",
       "      <td>0.0</td>\n",
       "      <td>0.0</td>\n",
       "      <td>...</td>\n",
       "      <td>0.0</td>\n",
       "      <td>0.0</td>\n",
       "      <td>0.0</td>\n",
       "      <td>0.0</td>\n",
       "      <td>0.0</td>\n",
       "      <td>0.0</td>\n",
       "      <td>0.0</td>\n",
       "      <td>1.0</td>\n",
       "      <td>0.0</td>\n",
       "      <td>0.0</td>\n",
       "    </tr>\n",
       "  </tbody>\n",
       "</table>\n",
       "<p>5 rows × 413 columns</p>\n",
       "</div>"
      ],
      "text/plain": [
       "                   gamma-Aminobutyric acid  Benzyl Alcohol  Betaine  \\\n",
       "se_name                                                               \n",
       "#Arthrosis                             0.0             0.0      0.0   \n",
       "AV-block                               0.0             0.0      0.0   \n",
       "Actinic keratosis                      0.0             0.0      0.0   \n",
       "Anxiety disorders                      0.0             0.0      0.0   \n",
       "Breast Cancer                          0.0             0.0      0.0   \n",
       "\n",
       "                   Citric Acid  Salicylic Acid  Aminocaproic acid  \\\n",
       "se_name                                                             \n",
       "#Arthrosis                 0.0             0.0                0.0   \n",
       "AV-block                   0.0             0.0                0.0   \n",
       "Actinic keratosis          0.0             0.0                0.0   \n",
       "Anxiety disorders          0.0             0.0                0.0   \n",
       "Breast Cancer              0.0             0.0                0.0   \n",
       "\n",
       "                   Lactic Acid  Dimethyl Sulfoxide  Dopamine  Ethanolamine  \\\n",
       "se_name                                                                      \n",
       "#Arthrosis                 0.0                 0.0       0.0           0.0   \n",
       "AV-block                   0.0                 0.0       0.0           0.0   \n",
       "Actinic keratosis          0.0                 0.0       0.0           0.0   \n",
       "Anxiety disorders          0.0                 0.0       0.0           0.0   \n",
       "Breast Cancer              0.0                 0.0       0.0           0.0   \n",
       "\n",
       "                   ...  Ethionamide  Prucalopride  Dasatinib  Vandetanib  \\\n",
       "se_name            ...                                                     \n",
       "#Arthrosis         ...          0.0           0.0        0.0         0.0   \n",
       "AV-block           ...          0.0           0.0        0.0         0.0   \n",
       "Actinic keratosis  ...          0.0           0.0        0.0         0.0   \n",
       "Anxiety disorders  ...          0.0           0.0        0.0         0.0   \n",
       "Breast Cancer      ...          0.0           0.0        0.0         0.0   \n",
       "\n",
       "                   Tolcapone  Acipimox  \\\n",
       "se_name                                  \n",
       "#Arthrosis               0.0       0.0   \n",
       "AV-block                 0.0       0.0   \n",
       "Actinic keratosis        0.0       0.0   \n",
       "Anxiety disorders        0.0       0.0   \n",
       "Breast Cancer            0.0       0.0   \n",
       "\n",
       "                   5-chloro-N-({2-oxo-3-[4-(3-oxomorpholin-4-yl)phenyl]-1,3-oxazolidin-5-yl}methyl)thiophene-2-carboxamide  \\\n",
       "se_name                                                                                                                      \n",
       "#Arthrosis                                                       0.0                                                         \n",
       "AV-block                                                         0.0                                                         \n",
       "Actinic keratosis                                                0.0                                                         \n",
       "Anxiety disorders                                                0.0                                                         \n",
       "Breast Cancer                                                    0.0                                                         \n",
       "\n",
       "                   Everolimus  Pazopanib  Carfilzomib  \n",
       "se_name                                                \n",
       "#Arthrosis                0.0        0.0          0.0  \n",
       "AV-block                  0.0        0.0          0.0  \n",
       "Actinic keratosis         0.0        0.0          0.0  \n",
       "Anxiety disorders         0.0        0.0          0.0  \n",
       "Breast Cancer             1.0        0.0          0.0  \n",
       "\n",
       "[5 rows x 413 columns]"
      ]
     },
     "execution_count": 18,
     "metadata": {},
     "output_type": "execute_result"
    }
   ],
   "source": [
    "Ymat_indications = pd.read_csv(\"data_for_regression/all_disease_indication_151x413.txt\",sep=\"\\t\",index_col=0).rename(columns=id2name)\n",
    "Ymat_indications.head()"
   ]
  },
  {
   "cell_type": "code",
   "execution_count": 19,
   "id": "affiliated-serial",
   "metadata": {},
   "outputs": [
    {
     "data": {
      "text/plain": [
       "Disulfiram           -76.384160\n",
       "Clotrimazole         -72.838426\n",
       "Loratadine           -59.554425\n",
       "Raloxifene           -58.712214\n",
       "Carfilzomib          -58.065162\n",
       "                        ...    \n",
       "Sotalol                0.144657\n",
       "Nepafenac              0.182960\n",
       "Vecuronium bromide     0.338733\n",
       "Metipranolol           1.162165\n",
       "Fludrocortisone        1.602817\n",
       "Name: Eczema, Length: 405, dtype: float64"
      ]
     },
     "execution_count": 19,
     "metadata": {},
     "output_type": "execute_result"
    }
   ],
   "source": [
    "pred_red_match = pred_red.loc[set(Ymat_indications.columns) & set(pred_red.index),:]\n",
    "\n",
    "Ymat_indications = Ymat_indications.loc[pred_red_match.columns,set(Ymat_indications.columns) & set(pred_red_match.index)].transpose()\n",
    "\n",
    "\n",
    "pred_red_match.loc[Ymat_indications['Eczema']==0,'Eczema'].sort_values()"
   ]
  },
  {
   "cell_type": "code",
   "execution_count": 79,
   "id": "comic-delicious",
   "metadata": {},
   "outputs": [
    {
     "data": {
      "text/plain": [
       "Troglitazone       -34.852543\n",
       "Nitazoxanide       -28.334991\n",
       "Nisoldipine        -28.319596\n",
       "Mitotane           -26.543275\n",
       "Clotrimazole       -26.293179\n",
       "                      ...    \n",
       "Felbamate            0.746012\n",
       "Metyrapone           0.999977\n",
       "Isoproterenol        1.373527\n",
       "Chlorthalidone       1.533764\n",
       "Methyclothiazide     2.193702\n",
       "Name: Non-cancer illness code, self-reported: glaucoma, Length: 401, dtype: float64"
      ]
     },
     "execution_count": 79,
     "metadata": {},
     "output_type": "execute_result"
    }
   ],
   "source": [
    "glaucoma = 'Non-cancer illness code, self-reported: glaucoma'\n",
    "pred_red_match.loc[Ymat_indications[glaucoma]==0,glaucoma].sort_values()"
   ]
  },
  {
   "cell_type": "code",
   "execution_count": null,
   "id": "sized-louis",
   "metadata": {},
   "outputs": [],
   "source": []
  }
 ],
 "metadata": {
  "kernelspec": {
   "display_name": "Python [conda env:anaconda-2022.10]",
   "language": "python",
   "name": "conda-env-anaconda-2022.10-py"
  },
  "language_info": {
   "codemirror_mode": {
    "name": "ipython",
    "version": 3
   },
   "file_extension": ".py",
   "mimetype": "text/x-python",
   "name": "python",
   "nbconvert_exporter": "python",
   "pygments_lexer": "ipython3",
   "version": "3.9.13"
  }
 },
 "nbformat": 4,
 "nbformat_minor": 5
}
