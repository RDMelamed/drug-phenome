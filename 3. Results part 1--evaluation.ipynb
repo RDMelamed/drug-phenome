{
 "cells": [
  {
   "cell_type": "markdown",
   "id": "genuine-powder",
   "metadata": {},
   "source": [
    "In this file, we present the calculations analyzing the input data and analyzing the predictions of drug phenotype effects.\n",
    "\n",
    "First we load in the files we made in notebook `1. curate_data.ipynb`"
   ]
  },
  {
   "cell_type": "code",
   "execution_count": 1,
   "id": "robust-somerset",
   "metadata": {},
   "outputs": [
    {
     "name": "stdout",
     "output_type": "stream",
     "text": [
      "usfile is  data_for_regression/US.txt\n",
      "[0.01620408 0.02911992 0.04089331 0.0516165  0.0605785  0.06915536\n",
      " 0.077376   0.08526528 0.09274951 0.09997383] 2\n"
     ]
    }
   ],
   "source": [
    "outfile='testdir/testfiles'\n",
    "pfile='data_for_regression/multixcan_res_10027.txt'\n",
    "dfile='data_for_regression/epa.txt'\n",
    "yfile='data_for_regression/sider_y.txt'\n",
    "usfile='data_for_regression/US.txt'\n",
    "ufile='data_for_regression/U.txt'\n",
    "test='test'\n",
    "import sys\n",
    "sys.path.append(\"code/\")\n",
    "import setup_data\n",
    "P, Ymat, Yalign, US, U, UB, SB, VB, make_L = setup_data.setup(pfile, yfile, dfile, usfile, ufile, False)"
   ]
  },
  {
   "cell_type": "code",
   "execution_count": 3,
   "id": "fcf348e7-5e23-41b1-83ad-5ce54284afc5",
   "metadata": {
    "collapsed": true,
    "jupyter": {
     "outputs_hidden": true
    },
    "tags": []
   },
   "outputs": [],
   "source": [
    "D = pd.read_csv(dfile,sep=\"\\t\",index_col=0)\n",
    "D.head()\n",
    "\n",
    "z = D.apply(lambda x: D.apply(lambda y: stats.spearmanr(x[~x.isnull() & ~y.isnull()], \n",
    "                                                    y[~x.isnull() & ~y.isnull()])[0]))\n",
    "\n",
    "\n",
    "z.fillna(-2,inplace=True)\n",
    "drugdo = set(US.index) & set(z.index)\n",
    "usd = upper_tri(stats.spearmanr(US.loc[drugdo,:].transpose())[0])\n",
    "dd = upper_tri(z.loc[drugdo, drugdo])\n",
    "sel = dd > -2"
   ]
  },
  {
   "cell_type": "code",
   "execution_count": 18,
   "id": "606c961c-5cec-4b04-88b0-bc555979285a",
   "metadata": {},
   "outputs": [
    {
     "data": {
      "text/plain": [
       "SpearmanrResult(correlation=0.2106140392919811, pvalue=0.0)"
      ]
     },
     "execution_count": 18,
     "metadata": {},
     "output_type": "execute_result"
    }
   ],
   "source": [
    "stats.spearmanr(usd.values[np.where(sel)[0]],dd[sel])"
   ]
  },
  {
   "cell_type": "markdown",
   "id": "sealed-newfoundland",
   "metadata": {},
   "source": [
    "## Results \"3.1 Data curation and initial assessment\"\n",
    "SEt up the pairwise comparisons"
   ]
  },
  {
   "cell_type": "code",
   "execution_count": 2,
   "id": "chicken-patrol",
   "metadata": {},
   "outputs": [],
   "source": [
    "from sklearn.metrics import pairwise_distances\n",
    "from scipy import stats\n",
    "from my_util import upper_tri"
   ]
  },
  {
   "cell_type": "markdown",
   "id": "affiliated-directive",
   "metadata": {},
   "source": [
    "### Statistical test of similarity of *diseases* in terms of drugs associated vs in terms of genetic regulation\n",
    "Loading in processed `Ymat` (side effects) and PhenomXcan `P` (phenotype genetic regulation)"
   ]
  },
  {
   "cell_type": "code",
   "execution_count": 10,
   "id": "8e813790-da30-4e03-ab2f-885510e5621d",
   "metadata": {},
   "outputs": [
    {
     "data": {
      "text/plain": [
       "SpearmanrResult(correlation=-0.11039370900920706, pvalue=2.0696576031480833e-53)"
      ]
     },
     "execution_count": 10,
     "metadata": {},
     "output_type": "execute_result"
    }
   ],
   "source": [
    "\n",
    "jacc_disease_drug_sim = pd.DataFrame(pairwise_distances(Ymat.transpose().values==1,metric='jaccard'),\n",
    "                       index=Ymat.columns,columns=Ymat.columns)\n",
    "\n",
    "\n",
    "pcors = P.loc[:,Ymat.columns].corr(method='spearman')\n",
    "\n",
    "\n",
    "pcors = upper_tri(pcors) #ttc.loc[ptstack.index, ptstack.index])\n",
    "\n",
    "\n",
    "stats.spearmanr(upper_tri(jacc_disease_drug_sim),pcors)"
   ]
  },
  {
   "cell_type": "markdown",
   "id": "composed-reputation",
   "metadata": {},
   "source": [
    "### Figure 1A"
   ]
  },
  {
   "cell_type": "code",
   "execution_count": 12,
   "id": "63b58a24-2cdb-4d00-ad1a-8eaf79f4a03f",
   "metadata": {},
   "outputs": [
    {
     "data": {
      "image/png": "[encoded data removed]",
      "text/plain": [
       "<Figure size 300x300 with 1 Axes>"
      ]
     },
     "metadata": {},
     "output_type": "display_data"
    }
   ],
   "source": [
    "import matplotlib.pyplot as plt\n",
    "\n",
    "f,ax = plt.subplots(1,figsize=(3,3))\n",
    "ax.plot(upper_tri(jacc_disease_drug_sim),pcors ,'.')\n",
    "ax.set_xlabel(\"disease Jaccard distance\\n(overlap of drugs)\")\n",
    "ax.set_ylabel(\"disease genetic regulation similarity\\n(PhenomeXcan)\")\n",
    "ax.spines['right'].set_visible(False)\n",
    "ax.spines['top'].set_visible(False)\n",
    "f.savefig(\"figs/disease_similarity_measures.png\",bbox_inches='tight',dpi=300)"
   ]
  },
  {
   "cell_type": "markdown",
   "id": "overhead-brunei",
   "metadata": {},
   "source": [
    "### Statistical test of similarity of *drugs* in terms of EPA endpoints vs phenotype side effects\n",
    "Now:\n",
    "- load in EPA\n",
    "- get pairwise Spearman correlation of endpoints (dropping missing) = drug endpoint similarity\n",
    "- get jaccard similarity of the drugs: how much do they share associated with phenotypes\n",
    "- then compare these 2 measures of similarity: smaller Jaccard distance is associated with more correlated drug endpoints."
   ]
  },
  {
   "cell_type": "code",
   "execution_count": 21,
   "id": "wired-description",
   "metadata": {},
   "outputs": [
    {
     "name": "stderr",
     "output_type": "stream",
     "text": [
      "/share/pkg/python3/3.6_intel_pu3_2018.3.039/intelpython3/lib/python3.6/site-packages/scipy/stats/stats.py:4196: SpearmanRConstantInputWarning: An input array is constant; the correlation coefficent is not defined.\n",
      "  warnings.warn(SpearmanRConstantInputWarning())\n"
     ]
    },
    {
     "data": {
      "text/plain": [
       "SpearmanrResult(correlation=-0.03373741128515219, pvalue=6.475781341553099e-24)"
      ]
     },
     "execution_count": 21,
     "metadata": {},
     "output_type": "execute_result"
    }
   ],
   "source": [
    "\n",
    "\n",
    "### load in EPA and make it into a matrix\n",
    "epa = pd.read_table(\"intermediate_files/epa_compiled.txt.gz\",sep=\"\\t\",index_col=0)\n",
    "xstk = epa.loc[:,['cid','aenm','hit_pct']].set_index(['cid','aenm']).sort_index().transpose().stack('aenm')\n",
    "#xstk = xstk.droplevel(0,0)\n",
    "xstk.index = xstk.index.droplevel(0)\n",
    "col = xstk.columns\n",
    "\n",
    "def spea(x,y):\n",
    "    sel = (x > -1) & (y>-1)\n",
    "    return stats.spearmanr(x[sel], y[sel])[0]\n",
    "\n",
    "spe = pd.DataFrame(pairwise_distances(xstk.transpose().fillna(-1) ,metric=spea),index=col,columns=col)\n",
    "\n",
    "### load in side effects, again make it into a matrix\n",
    "sider = pd.read_csv(\"input_data/meddra_all_se.tsv.gz\",sep=\"\\t\",header=None)\n",
    "sider['cid'] = sider[0].str.slice(4).map(int) ## get pubchem ID\n",
    "sider_matched_filter = sider.loc[sider['cid'].isin(set(epa['cid'])) ,:] ## match to EPA pubchem ID\n",
    "sider_matched_filter.columns = ['stitch_flat','stitch_stereo','UMLS_label', 'type','meddra','se_name','pubchem_cid']\n",
    "pt = sider_matched_filter.loc[sider_matched_filter['type']=='PT',].drop_duplicates(['pubchem_cid','meddra']).copy()\n",
    "\n",
    "pt['ae'] = 1\n",
    "ptstack = pt.loc[:,['pubchem_cid','se_name','ae']].drop_duplicates(['pubchem_cid','se_name']).set_index(['pubchem_cid','se_name']).sort_index() #.unstack().shape\n",
    "ptstack = ptstack.transpose().stack('se_name') ## make into matrix form\n",
    "ptstack = ptstack.mask(pd.isnull(ptstack), other=0)\n",
    "ptstack.index = ptstack.index.droplevel(0)\n",
    "ptstack = ptstack.loc[ptstack.sum(axis=1) < 200,:] # removed anything very nonspecific\n",
    "\n",
    "### \n",
    "drug_phesim = pd.DataFrame(pairwise_distances(pd.DataFrame(ptstack.transpose(),dtype=bool),metric='jaccard'),index=ptstack.columns,columns=ptstack.columns)\n",
    "drug_phesim = upper_tri(drug_phesim.loc[spe.index, spe.index])\n",
    "drug_epa_sim = upper_tri(spe)\n",
    "x = drug_epa_sim.index.intersection(drug_phesim.index)\n",
    "stats.spearmanr(drug_phesim.loc[x], drug_epa_sim.loc[x])\n"
   ]
  },
  {
   "cell_type": "markdown",
   "id": "palestinian-macedonia",
   "metadata": {},
   "source": [
    "Linear regression analysis"
   ]
  },
  {
   "cell_type": "code",
   "execution_count": 59,
   "id": "rough-simon",
   "metadata": {},
   "outputs": [
    {
     "data": {
      "text/html": [
       "<table class=\"simpletable\">\n",
       "<caption>OLS Regression Results</caption>\n",
       "<tr>\n",
       "  <th>Dep. Variable:</th>            <td>j</td>        <th>  R-squared:         </th>  <td>   0.003</td> \n",
       "</tr>\n",
       "<tr>\n",
       "  <th>Model:</th>                   <td>OLS</td>       <th>  Adj. R-squared:    </th>  <td>   0.003</td> \n",
       "</tr>\n",
       "<tr>\n",
       "  <th>Method:</th>             <td>Least Squares</td>  <th>  F-statistic:       </th>  <td>   118.7</td> \n",
       "</tr>\n",
       "<tr>\n",
       "  <th>Date:</th>             <td>Mon, 17 Apr 2023</td> <th>  Prob (F-statistic):</th>  <td>3.24e-52</td> \n",
       "</tr>\n",
       "<tr>\n",
       "  <th>Time:</th>                 <td>21:17:52</td>     <th>  Log-Likelihood:    </th> <td>1.1524e+05</td>\n",
       "</tr>\n",
       "<tr>\n",
       "  <th>No. Observations:</th>      <td> 89298</td>      <th>  AIC:               </th> <td>-2.305e+05</td>\n",
       "</tr>\n",
       "<tr>\n",
       "  <th>Df Residuals:</th>          <td> 89295</td>      <th>  BIC:               </th> <td>-2.304e+05</td>\n",
       "</tr>\n",
       "<tr>\n",
       "  <th>Df Model:</th>              <td>     2</td>      <th>                     </th>      <td> </td>    \n",
       "</tr>\n",
       "<tr>\n",
       "  <th>Covariance Type:</th>      <td>nonrobust</td>    <th>                     </th>      <td> </td>    \n",
       "</tr>\n",
       "</table>\n",
       "<table class=\"simpletable\">\n",
       "<tr>\n",
       "     <td></td>        <th>coef</th>     <th>std err</th>      <th>t</th>      <th>P>|t|</th>  <th>[0.025</th>    <th>0.975]</th>  \n",
       "</tr>\n",
       "<tr>\n",
       "  <th>const</th>   <td>    0.9291</td> <td>    0.001</td> <td> 1653.840</td> <td> 0.000</td> <td>    0.928</td> <td>    0.930</td>\n",
       "</tr>\n",
       "<tr>\n",
       "  <th>num_nna</th> <td> 1.568e-05</td> <td> 2.05e-06</td> <td>    7.661</td> <td> 0.000</td> <td> 1.17e-05</td> <td> 1.97e-05</td>\n",
       "</tr>\n",
       "<tr>\n",
       "  <th>spe</th>     <td>   -0.0234</td> <td>    0.002</td> <td>  -13.835</td> <td> 0.000</td> <td>   -0.027</td> <td>   -0.020</td>\n",
       "</tr>\n",
       "</table>\n",
       "<table class=\"simpletable\">\n",
       "<tr>\n",
       "  <th>Omnibus:</th>       <td>25096.727</td> <th>  Durbin-Watson:     </th> <td>   1.243</td> \n",
       "</tr>\n",
       "<tr>\n",
       "  <th>Prob(Omnibus):</th>  <td> 0.000</td>   <th>  Jarque-Bera (JB):  </th> <td>80776.347</td>\n",
       "</tr>\n",
       "<tr>\n",
       "  <th>Skew:</th>           <td>-1.433</td>   <th>  Prob(JB):          </th> <td>    0.00</td> \n",
       "</tr>\n",
       "<tr>\n",
       "  <th>Kurtosis:</th>       <td> 6.673</td>   <th>  Cond. No.          </th> <td>1.84e+03</td> \n",
       "</tr>\n",
       "</table><br/><br/>Notes:<br/>[1] Standard Errors assume that the covariance matrix of the errors is correctly specified.<br/>[2] The condition number is large, 1.84e+03. This might indicate that there are<br/>strong multicollinearity or other numerical problems."
      ],
      "text/plain": [
       "<class 'statsmodels.iolib.summary.Summary'>\n",
       "\"\"\"\n",
       "                            OLS Regression Results                            \n",
       "==============================================================================\n",
       "Dep. Variable:                      j   R-squared:                       0.003\n",
       "Model:                            OLS   Adj. R-squared:                  0.003\n",
       "Method:                 Least Squares   F-statistic:                     118.7\n",
       "Date:                Mon, 17 Apr 2023   Prob (F-statistic):           3.24e-52\n",
       "Time:                        21:17:52   Log-Likelihood:             1.1524e+05\n",
       "No. Observations:               89298   AIC:                        -2.305e+05\n",
       "Df Residuals:                   89295   BIC:                        -2.304e+05\n",
       "Df Model:                           2                                         \n",
       "Covariance Type:            nonrobust                                         \n",
       "==============================================================================\n",
       "                 coef    std err          t      P>|t|      [0.025      0.975]\n",
       "------------------------------------------------------------------------------\n",
       "const          0.9291      0.001   1653.840      0.000       0.928       0.930\n",
       "num_nna     1.568e-05   2.05e-06      7.661      0.000    1.17e-05    1.97e-05\n",
       "spe           -0.0234      0.002    -13.835      0.000      -0.027      -0.020\n",
       "==============================================================================\n",
       "Omnibus:                    25096.727   Durbin-Watson:                   1.243\n",
       "Prob(Omnibus):                  0.000   Jarque-Bera (JB):            80776.347\n",
       "Skew:                          -1.433   Prob(JB):                         0.00\n",
       "Kurtosis:                       6.673   Cond. No.                     1.84e+03\n",
       "==============================================================================\n",
       "\n",
       "Notes:\n",
       "[1] Standard Errors assume that the covariance matrix of the errors is correctly specified.\n",
       "[2] The condition number is large, 1.84e+03. This might indicate that there are\n",
       "strong multicollinearity or other numerical problems.\n",
       "\"\"\""
      ]
     },
     "execution_count": 59,
     "metadata": {},
     "output_type": "execute_result"
    }
   ],
   "source": [
    "def nna(x,y):\n",
    "    return sum((x > -1) & (y > -1))\n",
    "    #return stats.spearmanr(x[sel], y[sel])[0]\n",
    "nnan = pd.DataFrame(pairwise_distances(xstk.transpose().fillna(-1),metric=nna),index=col,columns=col)\n",
    "nnas = upper_tri(nnan.loc[spe.index, spe.index])\n",
    "import statsmodels.api as sm\n",
    "df = pd.DataFrame({'j':drug_phesim.loc[x],'num_nna':nnas.loc[x],'spe':drug_epa_sim.loc[x]})\n",
    "df = sm.add_constant(df)\n",
    "mod = sm.OLS(df['j'],df.drop('j',axis=1)).fit()\n",
    "mod.summary()"
   ]
  },
  {
   "cell_type": "code",
   "execution_count": 60,
   "id": "middle-ordering",
   "metadata": {},
   "outputs": [
    {
     "data": {
      "text/plain": [
       "const      0.000000e+00\n",
       "num_nna    1.861201e-14\n",
       "spe        1.748472e-43\n",
       "dtype: float64"
      ]
     },
     "execution_count": 60,
     "metadata": {},
     "output_type": "execute_result"
    }
   ],
   "source": [
    "mod.pvalues"
   ]
  },
  {
   "cell_type": "markdown",
   "id": "august-authorization",
   "metadata": {},
   "source": [
    "## Results \"3.2 Assessment of the model's predictive performance\"\n",
    "\n",
    "Here, we do analysis of the $W$ matrix and its predictions, from the results of `2. run_models.ipynb`.\n",
    "\n"
   ]
  },
  {
   "cell_type": "markdown",
   "id": "nutritional-suicide",
   "metadata": {
    "tags": []
   },
   "source": [
    "### Figure 2A: Prediction distances\n",
    "Load in the results of the held out drug analysis-- then compare to the nearest drug in terms of input distance (in $U_DS_D$).\n",
    "\n",
    "Then just plot the values -- each point is one drug"
   ]
  },
  {
   "cell_type": "code",
   "execution_count": 41,
   "id": "above-monaco",
   "metadata": {},
   "outputs": [],
   "source": [
    "### held out drug predictions \n",
    "leaveout = pd.read_csv(\"results/lo_pred_C.1.txt\",sep=\"\\t\",index_col=0)\n",
    "leaveout = leaveout.loc[Ymat.index.map(int), Ymat.columns]\n",
    "leaveout.index = Ymat.index\n",
    "\n",
    "### nearest drug in drug EPA reduced space\n",
    "corr = US.transpose().corr(method='spearman') - np.eye(US.shape[0])\n",
    "max_ix = corr.idxmax(axis=1)\n",
    "nn_pred = Ymat.loc[max_ix,:]\n",
    "nn_pred.index = Ymat.index\n",
    "\n",
    "### get Jaccard distance (higher = further) from true data Ymat to these 2 types of predictions\n",
    "from scipy.spatial import distance\n",
    "jaccard_dist_nn = pd.concat((nn_pred, Ymat),axis=1).apply(lambda x: distance.jaccard(x[:nn_pred.shape[1]], \n",
    "                                                                                       x[nn_pred.shape[1]:]),axis=1)\n",
    "\n",
    "jaccard_dist_lo = pd.concat((leaveout, Ymat),axis=1).apply(lambda x: distance.jaccard(x[:nn_pred.shape[1]], \n",
    "                                                                                       x[nn_pred.shape[1]:]),axis=1)"
   ]
  },
  {
   "cell_type": "code",
   "execution_count": 24,
   "id": "dress-cargo",
   "metadata": {},
   "outputs": [
    {
     "data": {
      "image/png": "[encoded data removed]",
      "text/plain": [
       "<Figure size 200x200 with 1 Axes>"
      ]
     },
     "metadata": {},
     "output_type": "display_data"
    }
   ],
   "source": [
    "import matplotlib.pyplot as plt\n",
    "\n",
    "f,ax = plt.subplots(1,figsize=(2,2))\n",
    "ax.plot(jaccard_dist_nn,jaccard_dist_lo ,'.')\n",
    "ax.plot([.4,1],[.4,1],':')\n",
    "ax.set_xlim(.3,1.05)\n",
    "ax.set_ylim(.3,1.05)\n",
    "ax.set_xticks([.5,.75,1])\n",
    "ax.set_yticks([.5,.75,1])\n",
    "ax.set_xlabel(\"nearest neighbor distance\")\n",
    "ax.set_ylabel(\"prediction distance\")\n",
    "ax.spines['right'].set_visible(False)\n",
    "ax.spines['top'].set_visible(False)\n",
    "f.savefig(\"nearest_neighbor_hold_outpredictions.pdf\",bbox_inches='tight')"
   ]
  },
  {
   "cell_type": "code",
   "execution_count": 25,
   "id": "cb546f28-7571-4cb1-9acf-a1470b736329",
   "metadata": {},
   "outputs": [
    {
     "data": {
      "text/plain": [
       "RanksumsResult(statistic=6.481423496927003, pvalue=9.086123701294992e-11)"
      ]
     },
     "execution_count": 25,
     "metadata": {},
     "output_type": "execute_result"
    }
   ],
   "source": [
    "stats.ranksums(jaccard_dist_nn,jaccard_dist_lo )"
   ]
  },
  {
   "cell_type": "markdown",
   "id": "c0d09625-9629-4d05-a24d-0d7353009021",
   "metadata": {},
   "source": [
    "## Comparison to other work and AUC\n",
    "See `3a_curate_galeano_drugvoyager.ipynb` for details on how results from Galeano 2020 and Drug Voyager (Oh 2017) were curated to match to the phenotypes and drugs in our analysis.\n",
    "\n",
    "Compare predictions to Sider SE presence/absence"
   ]
  },
  {
   "cell_type": "code",
   "execution_count": 19,
   "id": "bfb12a47-4375-4fd5-bd7f-6f0d45dfa865",
   "metadata": {},
   "outputs": [],
   "source": [
    "s8_match = pd.read_csv(\"evaluations/galeano_match_cid_ukb.txt\",sep=\"\\t\",index_col=0)\n",
    "s8_match.head()\n",
    "\n",
    "s8_stack = s8_match.loc[:,['ukb','cid','PredictedScore']].sort_values('PredictedScore').drop_duplicates(['ukb','cid'],keep='last').set_index(['cid','ukb']).transpose().stack('ukb').fillna(0)\n",
    "s8_stack.index = s8_stack.index.droplevel(0)\n",
    "s8_stack.shape\n",
    "\n",
    "se_mat = pd.read_csv(\"data_for_regression/sider_y.txt\",sep=\"\\t\",index_col=0)\n",
    "se_mat.columns = se_mat.columns.map(int)\n",
    "\n",
    "drugboth = set(s8_stack.columns) & set(se_mat.columns.map(int))\n",
    "disboth = set(s8_stack.index) & set(se_mat.index)\n"
   ]
  },
  {
   "cell_type": "code",
   "execution_count": 28,
   "id": "5bba3fe7-88f9-4e04-88b1-6a0d20ceaf29",
   "metadata": {},
   "outputs": [],
   "source": [
    "draph_pred = pd.read_table(\"results/lo_proba_C.1.txt\",sep=\"\\t\",index_col=0)\n",
    "\n",
    "### permuted W predictions example\n",
    "red = pd.read_table(\"pred_1.txt\",sep=\",\",index_col=0)\n",
    "sred2 = pd.read_table(\"pred2_perm.txt\",sep=\"\\t\",index_col=0)\n",
    "sred2.columns = red.columns"
   ]
  },
  {
   "cell_type": "code",
   "execution_count": null,
   "id": "d8fce892-53c6-48e3-b022-63d5c9e5f312",
   "metadata": {},
   "outputs": [],
   "source": [
    "red = pd.read_table(\"pred_1.txt\",sep=\",\",index_col=0)\n",
    "red2 = pd.read_table(\"pred2.txt\",sep=\"\\t\",index_col=0)\n",
    "\n",
    "scr = pd.read_table(\"pred_3_scr.txt\",sep=\",\",index_col=0)"
   ]
  },
  {
   "cell_type": "code",
   "execution_count": null,
   "id": "e7f1a9ef-f118-4e49-ac01-82f25942e373",
   "metadata": {},
   "outputs": [],
   "source": []
  },
  {
   "cell_type": "code",
   "execution_count": null,
   "id": "c125d0b7-947e-4c34-80f0-a071923ebe57",
   "metadata": {},
   "outputs": [],
   "source": [
    "sum("
   ]
  },
  {
   "cell_type": "markdown",
   "id": "e301a973-c1ab-4a31-a02a-93e2c4d68e5e",
   "metadata": {},
   "source": [
    "## Draphnet predictions (held out drugs)"
   ]
  },
  {
   "cell_type": "code",
   "execution_count": 29,
   "id": "d523eac5-91be-4d4b-a6ca-52ef3b739d37",
   "metadata": {
    "tags": []
   },
   "outputs": [
    {
     "data": {
      "text/plain": [
       "197"
      ]
     },
     "execution_count": 29,
     "metadata": {},
     "output_type": "execute_result"
    }
   ],
   "source": [
    "sep_disboth = set(draph_pred.columns)  & set(se_mat.index)\n",
    "len(sep_disboth)"
   ]
  },
  {
   "cell_type": "code",
   "execution_count": 30,
   "id": "f886df58-b64b-4620-a6b7-77b315657af1",
   "metadata": {},
   "outputs": [
    {
     "data": {
      "text/plain": [
       "421"
      ]
     },
     "execution_count": 30,
     "metadata": {},
     "output_type": "execute_result"
    }
   ],
   "source": [
    "sep_drugboth = set(draph_pred.index)  & set(se_mat.columns.map(int))\n",
    "len(sep_drugboth)"
   ]
  },
  {
   "cell_type": "code",
   "execution_count": 31,
   "id": "7677a4bc-5e28-4059-86c3-efdc88c5287e",
   "metadata": {},
   "outputs": [],
   "source": [
    "double_drug = list(sep_drugboth & drugboth)\n",
    "double_dis = list(sep_disboth & disboth)"
   ]
  },
  {
   "cell_type": "code",
   "execution_count": 39,
   "id": "1d22817a-d37d-41cc-98f4-f126ce7bf0d6",
   "metadata": {},
   "outputs": [
    {
     "data": {
      "text/plain": [
       "215"
      ]
     },
     "execution_count": 39,
     "metadata": {},
     "output_type": "execute_result"
    }
   ],
   "source": [
    "len(double_drug)"
   ]
  },
  {
   "cell_type": "code",
   "execution_count": 40,
   "id": "2994c856-06c0-4ff5-88f0-5e07b8d8ec86",
   "metadata": {},
   "outputs": [
    {
     "data": {
      "text/plain": [
       "155"
      ]
     },
     "execution_count": 40,
     "metadata": {},
     "output_type": "execute_result"
    }
   ],
   "source": [
    "len(double_dis)"
   ]
  },
  {
   "cell_type": "code",
   "execution_count": 34,
   "id": "ee9a7f4d-9f3c-4a82-b9ee-07214abb9400",
   "metadata": {},
   "outputs": [],
   "source": [
    "from sklearn.metrics import roc_auc_score\n"
   ]
  },
  {
   "cell_type": "code",
   "execution_count": 35,
   "id": "dc534991-66f7-4e7d-b2db-aa54b2da1add",
   "metadata": {},
   "outputs": [
    {
     "data": {
      "text/plain": [
       "0.5624101969065772"
      ]
     },
     "execution_count": 35,
     "metadata": {},
     "output_type": "execute_result"
    }
   ],
   "source": [
    "galeano_v_sider = pd.concat(( s8_stack.loc[double_dis, double_drug].unstack().transpose(), \n",
    "                             se_mat.loc[double_dis,double_drug].unstack().transpose()),axis=1)# galeano':s8_stack.unstack().transpose(),\n",
    "#                                  'sider':se_mat.unstack().transpose()})\n",
    "\n",
    "galeano_v_sider.columns = ['galeano','sider']\n",
    "roc_auc_score(galeano_v_sider['sider'], galeano_v_sider['galeano'])"
   ]
  },
  {
   "cell_type": "code",
   "execution_count": 36,
   "id": "07c2c6e8-617c-45f0-928f-c85f00f1848f",
   "metadata": {},
   "outputs": [
    {
     "data": {
      "text/plain": [
       "0.7446624878733044"
      ]
     },
     "execution_count": 36,
     "metadata": {},
     "output_type": "execute_result"
    }
   ],
   "source": [
    "pred_v_sider = pd.concat((draph_pred.transpose().loc[double_dis, double_drug].unstack().transpose(),\n",
    "    se_mat.loc[double_dis, double_drug].unstack().transpose()),axis=1)\n",
    "pred_v_sider.columns = ['pred','sider']\n",
    "\n",
    "roc_auc_score(pred_v_sider['sider'], pred_v_sider['pred'])"
   ]
  },
  {
   "cell_type": "code",
   "execution_count": 44,
   "id": "7f2d3a53-50ab-4d62-aa19-7551b2d7ea65",
   "metadata": {
    "collapsed": true,
    "jupyter": {
     "outputs_hidden": true
    },
    "tags": []
   },
   "outputs": [
    {
     "data": {
      "text/html": [
       "<div>\n",
       "<style scoped>\n",
       "    .dataframe tbody tr th:only-of-type {\n",
       "        vertical-align: middle;\n",
       "    }\n",
       "\n",
       "    .dataframe tbody tr th {\n",
       "        vertical-align: top;\n",
       "    }\n",
       "\n",
       "    .dataframe thead th {\n",
       "        text-align: right;\n",
       "    }\n",
       "</style>\n",
       "<table border=\"1\" class=\"dataframe\">\n",
       "  <thead>\n",
       "    <tr style=\"text-align: right;\">\n",
       "      <th>ukb</th>\n",
       "      <th>#Arthrosis</th>\n",
       "      <th>AV-block</th>\n",
       "      <th>Actinic keratosis</th>\n",
       "      <th>Anxiety disorders</th>\n",
       "      <th>Atrophic disorders of skin</th>\n",
       "      <th>Breast Cancer</th>\n",
       "      <th>Bronchitis</th>\n",
       "      <th>Cancer code, self-reported: basal cell carcinoma</th>\n",
       "      <th>Cancer code, self-reported: lung cancer</th>\n",
       "      <th>Cancer code, self-reported: malignant melanoma</th>\n",
       "      <th>...</th>\n",
       "      <th>Rheumatoid Arthritis</th>\n",
       "      <th>STROKE</th>\n",
       "      <th>Schizophrenia</th>\n",
       "      <th>Sleep apnoea</th>\n",
       "      <th>Sleeping too much</th>\n",
       "      <th>Substance abuse</th>\n",
       "      <th>Systemic Lupus Erythematosus</th>\n",
       "      <th>Thrombocytopenia, unspecified</th>\n",
       "      <th>Ulcer of oesophagus</th>\n",
       "      <th>Viral hepatitis</th>\n",
       "    </tr>\n",
       "  </thead>\n",
       "  <tbody>\n",
       "    <tr>\n",
       "      <th>10113978</th>\n",
       "      <td>0.0</td>\n",
       "      <td>0.0</td>\n",
       "      <td>0.0</td>\n",
       "      <td>0.0</td>\n",
       "      <td>0.0</td>\n",
       "      <td>0.0</td>\n",
       "      <td>0.0</td>\n",
       "      <td>0.0</td>\n",
       "      <td>0.0</td>\n",
       "      <td>0.0</td>\n",
       "      <td>...</td>\n",
       "      <td>0.0</td>\n",
       "      <td>0.0</td>\n",
       "      <td>0.0</td>\n",
       "      <td>0.0</td>\n",
       "      <td>0.0</td>\n",
       "      <td>0.0</td>\n",
       "      <td>0.0</td>\n",
       "      <td>0.0</td>\n",
       "      <td>0.0</td>\n",
       "      <td>0.0</td>\n",
       "    </tr>\n",
       "    <tr>\n",
       "      <th>1046</th>\n",
       "      <td>0.0</td>\n",
       "      <td>0.0</td>\n",
       "      <td>0.0</td>\n",
       "      <td>0.0</td>\n",
       "      <td>0.0</td>\n",
       "      <td>0.0</td>\n",
       "      <td>0.0</td>\n",
       "      <td>0.0</td>\n",
       "      <td>0.0</td>\n",
       "      <td>0.0</td>\n",
       "      <td>...</td>\n",
       "      <td>0.0</td>\n",
       "      <td>0.0</td>\n",
       "      <td>0.0</td>\n",
       "      <td>0.0</td>\n",
       "      <td>0.0</td>\n",
       "      <td>0.0</td>\n",
       "      <td>0.0</td>\n",
       "      <td>0.0</td>\n",
       "      <td>0.0</td>\n",
       "      <td>0.0</td>\n",
       "    </tr>\n",
       "    <tr>\n",
       "      <th>104741</th>\n",
       "      <td>0.0</td>\n",
       "      <td>0.0</td>\n",
       "      <td>0.0</td>\n",
       "      <td>0.0</td>\n",
       "      <td>0.0</td>\n",
       "      <td>0.0</td>\n",
       "      <td>0.0</td>\n",
       "      <td>0.0</td>\n",
       "      <td>0.0</td>\n",
       "      <td>0.0</td>\n",
       "      <td>...</td>\n",
       "      <td>0.0</td>\n",
       "      <td>0.0</td>\n",
       "      <td>0.0</td>\n",
       "      <td>0.0</td>\n",
       "      <td>0.0</td>\n",
       "      <td>0.0</td>\n",
       "      <td>0.0</td>\n",
       "      <td>0.0</td>\n",
       "      <td>0.0</td>\n",
       "      <td>0.0</td>\n",
       "    </tr>\n",
       "    <tr>\n",
       "      <th>104865</th>\n",
       "      <td>0.0</td>\n",
       "      <td>0.0</td>\n",
       "      <td>0.0</td>\n",
       "      <td>0.0</td>\n",
       "      <td>0.0</td>\n",
       "      <td>0.0</td>\n",
       "      <td>0.0</td>\n",
       "      <td>0.0</td>\n",
       "      <td>0.0</td>\n",
       "      <td>0.0</td>\n",
       "      <td>...</td>\n",
       "      <td>0.0</td>\n",
       "      <td>0.0</td>\n",
       "      <td>0.0</td>\n",
       "      <td>0.0</td>\n",
       "      <td>0.0</td>\n",
       "      <td>0.0</td>\n",
       "      <td>0.0</td>\n",
       "      <td>0.0</td>\n",
       "      <td>0.0</td>\n",
       "      <td>0.0</td>\n",
       "    </tr>\n",
       "    <tr>\n",
       "      <th>1054</th>\n",
       "      <td>0.0</td>\n",
       "      <td>0.0</td>\n",
       "      <td>0.0</td>\n",
       "      <td>0.0</td>\n",
       "      <td>0.0</td>\n",
       "      <td>0.0</td>\n",
       "      <td>0.0</td>\n",
       "      <td>0.0</td>\n",
       "      <td>0.0</td>\n",
       "      <td>0.0</td>\n",
       "      <td>...</td>\n",
       "      <td>0.0</td>\n",
       "      <td>0.0</td>\n",
       "      <td>0.0</td>\n",
       "      <td>0.0</td>\n",
       "      <td>0.0</td>\n",
       "      <td>0.0</td>\n",
       "      <td>1.0</td>\n",
       "      <td>1.0</td>\n",
       "      <td>0.0</td>\n",
       "      <td>0.0</td>\n",
       "    </tr>\n",
       "  </tbody>\n",
       "</table>\n",
       "<p>5 rows × 197 columns</p>\n",
       "</div>"
      ],
      "text/plain": [
       "ukb       #Arthrosis  AV-block  Actinic keratosis  Anxiety disorders  \\\n",
       "10113978         0.0       0.0                0.0                0.0   \n",
       "1046             0.0       0.0                0.0                0.0   \n",
       "104741           0.0       0.0                0.0                0.0   \n",
       "104865           0.0       0.0                0.0                0.0   \n",
       "1054             0.0       0.0                0.0                0.0   \n",
       "\n",
       "ukb       Atrophic disorders of skin  Breast Cancer  Bronchitis  \\\n",
       "10113978                         0.0            0.0         0.0   \n",
       "1046                             0.0            0.0         0.0   \n",
       "104741                           0.0            0.0         0.0   \n",
       "104865                           0.0            0.0         0.0   \n",
       "1054                             0.0            0.0         0.0   \n",
       "\n",
       "ukb       Cancer code, self-reported: basal cell carcinoma  \\\n",
       "10113978                                               0.0   \n",
       "1046                                                   0.0   \n",
       "104741                                                 0.0   \n",
       "104865                                                 0.0   \n",
       "1054                                                   0.0   \n",
       "\n",
       "ukb       Cancer code, self-reported: lung cancer  \\\n",
       "10113978                                      0.0   \n",
       "1046                                          0.0   \n",
       "104741                                        0.0   \n",
       "104865                                        0.0   \n",
       "1054                                          0.0   \n",
       "\n",
       "ukb       Cancer code, self-reported: malignant melanoma  ...  \\\n",
       "10113978                                             0.0  ...   \n",
       "1046                                                 0.0  ...   \n",
       "104741                                               0.0  ...   \n",
       "104865                                               0.0  ...   \n",
       "1054                                                 0.0  ...   \n",
       "\n",
       "ukb       Rheumatoid Arthritis  STROKE  Schizophrenia  Sleep apnoea  \\\n",
       "10113978                   0.0     0.0            0.0           0.0   \n",
       "1046                       0.0     0.0            0.0           0.0   \n",
       "104741                     0.0     0.0            0.0           0.0   \n",
       "104865                     0.0     0.0            0.0           0.0   \n",
       "1054                       0.0     0.0            0.0           0.0   \n",
       "\n",
       "ukb       Sleeping too much  Substance abuse  Systemic Lupus Erythematosus  \\\n",
       "10113978                0.0              0.0                           0.0   \n",
       "1046                    0.0              0.0                           0.0   \n",
       "104741                  0.0              0.0                           0.0   \n",
       "104865                  0.0              0.0                           0.0   \n",
       "1054                    0.0              0.0                           1.0   \n",
       "\n",
       "ukb       Thrombocytopenia, unspecified  Ulcer of oesophagus  Viral hepatitis  \n",
       "10113978                            0.0                  0.0              0.0  \n",
       "1046                                0.0                  0.0              0.0  \n",
       "104741                              0.0                  0.0              0.0  \n",
       "104865                              0.0                  0.0              0.0  \n",
       "1054                                1.0                  0.0              0.0  \n",
       "\n",
       "[5 rows x 197 columns]"
      ]
     },
     "execution_count": 44,
     "metadata": {},
     "output_type": "execute_result"
    }
   ],
   "source": [
    "nn_pred.head()"
   ]
  },
  {
   "cell_type": "code",
   "execution_count": 45,
   "id": "03918629-dac9-4830-be86-68f0ad599c98",
   "metadata": {},
   "outputs": [],
   "source": [
    "nn_pred.index = nn_pred.index.map(int)"
   ]
  },
  {
   "cell_type": "code",
   "execution_count": 46,
   "id": "034c366b-56d8-4cbd-bbc3-c583ea4df4f3",
   "metadata": {},
   "outputs": [
    {
     "data": {
      "text/plain": [
       "0.6000773374533491"
      ]
     },
     "execution_count": 46,
     "metadata": {},
     "output_type": "execute_result"
    }
   ],
   "source": [
    "nnpred_v_sider = pd.concat((nn_pred.transpose().loc[double_dis, double_drug].unstack().transpose(),\n",
    "    se_mat.loc[double_dis, double_drug].unstack().transpose()),axis=1)\n",
    "nnpred_v_sider.columns = ['pred','sider']\n",
    "\n",
    "roc_auc_score(nnpred_v_sider['sider'], nnpred_v_sider['pred'])"
   ]
  },
  {
   "cell_type": "code",
   "execution_count": 37,
   "id": "3998d117-211d-43b0-82e4-756054785990",
   "metadata": {},
   "outputs": [],
   "source": [
    "spred_v_sider = pd.concat((sred2.transpose().loc[double_dis, double_drug].unstack().transpose(),\n",
    "    se_mat.loc[double_dis, double_drug].unstack().transpose()),axis=1)\n",
    "spred_v_sider.columns = ['pred','sider']"
   ]
  },
  {
   "cell_type": "code",
   "execution_count": 38,
   "id": "21eb2c85-2c40-4fab-9a93-e0604954ed0d",
   "metadata": {},
   "outputs": [
    {
     "data": {
      "image/png": "[encoded data removed]",
      "text/plain": [
       "<Figure size 150x150 with 1 Axes>"
      ]
     },
     "metadata": {},
     "output_type": "display_data"
    }
   ],
   "source": [
    "import matplotlib.pyplot as plt\n",
    "from sklearn import metrics\n",
    "from sklearn.metrics import roc_auc_score\n",
    "fpr, tpr, thresholds = metrics.roc_curve(pred_v_sider['sider'], pred_v_sider['pred'], pos_label=1)\n",
    "fprs, tprs, thresholds = metrics.roc_curve(spred_v_sider['sider'], spred_v_sider['pred'], pos_label=1)\n",
    "fprg, tprg, thresholds = metrics.roc_curve(galeano_v_sider['sider'], galeano_v_sider['galeano'], pos_label=1)\n",
    "\n",
    "#fprnn, tprnn, thresholds = metrics.roc_curve(nn_v_sider['sider'], nn_v_sider['pred'], pos_label=1)\n",
    "f, ax = plt.subplots(1, figsize=(1.5,1.5))\n",
    "ax.plot(fpr, tpr)\n",
    "ax.set_xlabel('fpr')\n",
    "ax.set_ylabel('tpr')\n",
    "ax.spines['right'].set_visible(False)\n",
    "ax.spines['top'].set_visible(False)\n",
    "\n",
    "ax.plot(fprg, tprg,c='green')\n",
    "ax.plot(fprs, tprs,\":\",c='k',linewidth=.5)\n",
    "\n",
    "ax.legend(['Draphnet {:1.2f}'.format(roc_auc_score(pred_v_sider['sider'], pred_v_sider['pred'])),\n",
    "            'Galeano {:1.2f}'.format(roc_auc_score(galeano_v_sider['sider'], galeano_v_sider['galeano'])),\n",
    "           'scrambled {:1.2f}'.format(roc_auc_score(spred_v_sider['sider'], spred_v_sider['pred']))],bbox_to_anchor=[.7,.7]) #loc='outside right')\n",
    "\n",
    "f.savefig(\"auc.pdf\",bbox_inches='tight')"
   ]
  },
  {
   "cell_type": "markdown",
   "id": "fe74ceb0-9d0f-4ba4-a065-a3ccf94aa25e",
   "metadata": {},
   "source": [
    "## Drug Voyager comparison\n",
    "Get the drug-phenotype matches between both "
   ]
  },
  {
   "cell_type": "code",
   "execution_count": 78,
   "id": "98d2cdda-bfb8-46e2-b5b3-983c8d9c97a1",
   "metadata": {},
   "outputs": [
    {
     "name": "stdout",
     "output_type": "stream",
     "text": [
      "testing  20 drug and  151 diseases\n"
     ]
    }
   ],
   "source": [
    "se_dv_match = pd.read_csv(\"evaluations/drugvoyager_match.txt\",sep=\"\\t\",index_col=0)\n",
    "se_dv_match.head()\n",
    "\n",
    "se_dv_match['ae'] = 1\n",
    "dv_stack = se_dv_match.loc[:,['ukb','cid','ae']].drop_duplicates().set_index(['cid','ukb']).transpose().stack('ukb').fillna(0)\n",
    "dv_stack.index = dv_stack.index.droplevel(0)\n",
    "\n",
    "dvs_drugboth = list(set(dv_stack.columns) & set(se_mat.columns.map(int)) & set(draph_pred.index))\n",
    "dvs_disboth = list(set(dv_stack.index) & set(se_mat.index))\n",
    "print(\"testing \", len(dvs_drugboth),'drug and ',len(dvs_disboth),'diseases')"
   ]
  },
  {
   "cell_type": "code",
   "execution_count": 76,
   "id": "ff4f8f77-0ace-42b4-900c-2c10e0b7d891",
   "metadata": {},
   "outputs": [
    {
     "data": {
      "text/plain": [
       "0.452822534212737"
      ]
     },
     "execution_count": 76,
     "metadata": {},
     "output_type": "execute_result"
    }
   ],
   "source": [
    "dv_v_sider = pd.concat(( dv_stack.loc[dvs_disboth, dvs_drugboth].unstack().transpose(), \n",
    "                             se_mat.loc[dvs_disboth,dvs_drugboth].unstack().transpose()),axis=1)# galeano':s8_stack.unstack().transpose(),\n",
    "#                                  'sider':se_mat.unstack().transpose()})\n",
    "\n",
    "dv_v_sider.columns = ['dv','sider']\n",
    "\n",
    "roc_auc_score(dv_v_sider['sider'], dv_v_sider['dv'])"
   ]
  },
  {
   "cell_type": "code",
   "execution_count": 77,
   "id": "591ead67-b3c9-4fd0-a183-dc21bd1bb3b6",
   "metadata": {},
   "outputs": [
    {
     "data": {
      "text/plain": [
       "0.7498491609528252"
      ]
     },
     "execution_count": 77,
     "metadata": {},
     "output_type": "execute_result"
    }
   ],
   "source": [
    "draph_v_s_dv = pd.concat(( \n",
    "                          draph_pred.transpose().loc[dvs_disboth,dvs_drugboth].unstack().transpose(), \n",
    "                            se_mat.loc[dvs_disboth,dvs_drugboth].unstack().transpose()),axis=1)# galeano':s8_stack.unstack().transpose(),\n",
    "#                                  'sider':se_mat.unstack().transpose()})\n",
    "\n",
    "draph_v_s_dv.columns = ['draph','sider']\n",
    "from sklearn.metrics import roc_auc_score\n",
    "roc_auc_score(draph_v_s_dv['sider'], draph_v_s_dv['draph'])"
   ]
  },
  {
   "cell_type": "markdown",
   "id": "f7f7a830-9859-477b-a7b9-f9333c7ba70f",
   "metadata": {},
   "source": [
    "## Offsides comparison\n",
    "Offsides was processed to match with drugbank and pubchem identifiers, and phenotypes "
   ]
  },
  {
   "cell_type": "code",
   "execution_count": 51,
   "id": "952d2692-b7ec-4ade-be19-68e44b89975b",
   "metadata": {},
   "outputs": [],
   "source": [
    "off_match = pd.read_csv(\"evaluations/offsides_processed.txt\",sep=\"\\t\",index_col=0)\n",
    "\n",
    "#o2 = off_match.loc[off_match['pubchem_cid'].isin(drugboth),:]\n",
    "o2 = off_match.sort_values('PRR-2Err').drop_duplicates(['pubchem_cid','ukb'],keep='last').set_index(['pubchem_cid','ukb']).transpose().stack().fillna(0)\n",
    "\n",
    "o2.index = o2.index.droplevel(0)\n",
    "\n",
    "o_drugboth = set(off_match['pubchem_cid']) & set(s8_match['cid'])\n",
    "\n",
    "o_disboth = set(off_match['ukb']) & set(s8_match['ukb'])\n",
    "\n",
    "sep_o_drugboth = set(draph_pred.index)  & set(off_match['pubchem_cid'])\n",
    "len(sep_o_drugboth)\n",
    "\n",
    "sep_o_disboth = set(draph_pred.columns)  & set(off_match['ukb'])\n",
    "len(sep_o_disboth)\n",
    "\n",
    "o_double_drug = list(sep_o_drugboth & o_drugboth)\n",
    "o_double_dis = list(sep_o_disboth & o_disboth)\n",
    "\n"
   ]
  },
  {
   "cell_type": "code",
   "execution_count": 53,
   "id": "25b99911-c8a5-4698-83ed-574585e3a800",
   "metadata": {},
   "outputs": [
    {
     "data": {
      "text/plain": [
       "193"
      ]
     },
     "execution_count": 53,
     "metadata": {},
     "output_type": "execute_result"
    }
   ],
   "source": [
    "len(o_double_drug)"
   ]
  },
  {
   "cell_type": "code",
   "execution_count": 54,
   "id": "838a4033-ba0a-49c3-829f-006c8d3c08b3",
   "metadata": {},
   "outputs": [
    {
     "data": {
      "text/plain": [
       "155"
      ]
     },
     "execution_count": 54,
     "metadata": {},
     "output_type": "execute_result"
    }
   ],
   "source": [
    "len(o_double_dis)"
   ]
  },
  {
   "cell_type": "code",
   "execution_count": 13,
   "id": "6de6815b-4f6c-41e1-9e42-a3deede5ba1f",
   "metadata": {},
   "outputs": [
    {
     "data": {
      "text/plain": [
       "0.5461471722750265"
      ]
     },
     "execution_count": 13,
     "metadata": {},
     "output_type": "execute_result"
    }
   ],
   "source": [
    "galeano_v_offs = pd.concat(( s8_stack.loc[o_double_dis,o_double_drug].unstack(), \n",
    "                            o2.loc[o_double_dis,o_double_drug].unstack()),axis=1)# galeano':s8_stack.unstack().transpose(),\n",
    "#                                  'sider':se_mat.unstack().transpose()})\n",
    "\n",
    "galeano_v_offs.columns = ['galeano','offsides']\n",
    "\n",
    "from sklearn.metrics import roc_auc_score\n",
    "roc_auc_score(galeano_v_offs['offsides']>1, galeano_v_offs['galeano'])"
   ]
  },
  {
   "cell_type": "code",
   "execution_count": 57,
   "id": "ac052075-35ec-4373-b86f-8425a6944baa",
   "metadata": {},
   "outputs": [
    {
     "data": {
      "text/plain": [
       "0.549688430859437"
      ]
     },
     "execution_count": 57,
     "metadata": {},
     "output_type": "execute_result"
    }
   ],
   "source": [
    "draph_v_offs = pd.concat(( \n",
    "                          draph_pred.transpose().loc[o_double_dis,o_double_drug].unstack().transpose(), \n",
    "                            o2.loc[o_double_dis,o_double_drug].unstack()),axis=1)# galeano':s8_stack.unstack().transpose(),\n",
    "#                                  'sider':se_mat.unstack().transpose()})\n",
    "\n",
    "draph_v_offs.columns = ['draph','offsides']\n",
    "from sklearn.metrics import roc_auc_score\n",
    "roc_auc_score(draph_v_offs['offsides']>1, draph_v_offs['draph'])"
   ]
  },
  {
   "cell_type": "code",
   "execution_count": 58,
   "id": "e38b759e-684e-4648-9ca9-9a2a8799a53e",
   "metadata": {},
   "outputs": [
    {
     "data": {
      "text/plain": [
       "SpearmanrResult(correlation=0.12520853850905594, pvalue=8.458621208023617e-105)"
      ]
     },
     "execution_count": 58,
     "metadata": {},
     "output_type": "execute_result"
    }
   ],
   "source": [
    "stats.spearmanr(galeano_v_offs['offsides'], galeano_v_offs['galeano'])"
   ]
  },
  {
   "cell_type": "code",
   "execution_count": 44,
   "id": "26abee37-3a1f-4e6d-9ac6-4ba114872f2c",
   "metadata": {},
   "outputs": [
    {
     "data": {
      "text/plain": [
       "SpearmanrResult(correlation=0.14004873288590144, pvalue=7.080738459440886e-131)"
      ]
     },
     "execution_count": 44,
     "metadata": {},
     "output_type": "execute_result"
    }
   ],
   "source": [
    "stats.spearmanr(draph_v_offs['offsides'], draph_v_offs['draph'])"
   ]
  },
  {
   "cell_type": "code",
   "execution_count": 60,
   "id": "ffb4a2ea-4332-48f3-a2b2-f532c41e8e72",
   "metadata": {},
   "outputs": [
    {
     "data": {
      "text/plain": [
       "SpearmanrResult(correlation=0.24423878906107874, pvalue=0.0)"
      ]
     },
     "execution_count": 60,
     "metadata": {},
     "output_type": "execute_result"
    }
   ],
   "source": [
    "stats.spearmanr(draph_v_offs.loc[galeano_v_offs.index,'draph'], galeano_v_offs['galeano'])"
   ]
  },
  {
   "cell_type": "markdown",
   "id": "amended-hopkins",
   "metadata": {
    "tags": []
   },
   "source": [
    "### Predictions discussed in this section\n",
    "Obtain predictions: model was fit as $V_P \\otimes U_DS_D \\dot W_{DP} = Y $ so multiplying these together gives predictions (without intercept)\n",
    "- $ U_DS_D$ reduced drug endpoint space\n",
    "- $ U_DS_DW_{DP}$ mapping drug endpoints to projected effects on reduced phenome space\n",
    "- $ U_DS_DW_{DP}V_P$ full predictions"
   ]
  },
  {
   "cell_type": "code",
   "execution_count": 64,
   "id": "orange-engineering",
   "metadata": {
    "collapsed": true,
    "jupyter": {
     "outputs_hidden": true
    },
    "tags": []
   },
   "outputs": [
    {
     "ename": "ModuleNotFoundError",
     "evalue": "No module named 'sklearn.linear_model.logistic'",
     "output_type": "error",
     "traceback": [
      "\u001b[0;31m---------------------------------------------------------------------------\u001b[0m",
      "\u001b[0;31mModuleNotFoundError\u001b[0m                       Traceback (most recent call last)",
      "\u001b[0;32m/tmp/ipykernel_170010/3007072215.py\u001b[0m in \u001b[0;36m<module>\u001b[0;34m\u001b[0m\n\u001b[1;32m      8\u001b[0m \u001b[0mU_DS_DdotW\u001b[0m \u001b[0;34m=\u001b[0m \u001b[0mUS\u001b[0m\u001b[0;34m.\u001b[0m\u001b[0miloc\u001b[0m\u001b[0;34m[\u001b[0m\u001b[0;34m:\u001b[0m\u001b[0;34m,\u001b[0m\u001b[0;34m:\u001b[0m\u001b[0mW\u001b[0m\u001b[0;34m.\u001b[0m\u001b[0mshape\u001b[0m\u001b[0;34m[\u001b[0m\u001b[0;36m0\u001b[0m\u001b[0;34m]\u001b[0m\u001b[0;34m]\u001b[0m\u001b[0;34m.\u001b[0m\u001b[0mdot\u001b[0m\u001b[0;34m(\u001b[0m\u001b[0mW\u001b[0m\u001b[0;34m)\u001b[0m\u001b[0;34m.\u001b[0m\u001b[0mrename\u001b[0m\u001b[0;34m(\u001b[0m\u001b[0mid2name\u001b[0m\u001b[0;34m)\u001b[0m\u001b[0;34m\u001b[0m\u001b[0;34m\u001b[0m\u001b[0m\n\u001b[1;32m      9\u001b[0m \u001b[0;34m\u001b[0m\u001b[0m\n\u001b[0;32m---> 10\u001b[0;31m \u001b[0mmod_red\u001b[0m \u001b[0;34m=\u001b[0m \u001b[0mpickle\u001b[0m\u001b[0;34m.\u001b[0m\u001b[0mload\u001b[0m\u001b[0;34m(\u001b[0m\u001b[0mopen\u001b[0m\u001b[0;34m(\u001b[0m\u001b[0mresult_files\u001b[0m \u001b[0;34m+\u001b[0m \u001b[0;34m'_lr.pkl'\u001b[0m\u001b[0;34m,\u001b[0m\u001b[0;34m'rb'\u001b[0m\u001b[0;34m)\u001b[0m\u001b[0;34m)\u001b[0m\u001b[0;34m\u001b[0m\u001b[0;34m\u001b[0m\u001b[0m\n\u001b[0m\u001b[1;32m     11\u001b[0m \u001b[0mVP\u001b[0m \u001b[0;34m=\u001b[0m \u001b[0mpd\u001b[0m\u001b[0;34m.\u001b[0m\u001b[0mread_table\u001b[0m\u001b[0;34m(\u001b[0m\u001b[0mresult_files\u001b[0m \u001b[0;34m+\u001b[0m \u001b[0;34m'_VB.txt'\u001b[0m\u001b[0;34m,\u001b[0m\u001b[0mindex_col\u001b[0m\u001b[0;34m=\u001b[0m\u001b[0;36m0\u001b[0m\u001b[0;34m)\u001b[0m\u001b[0;34m\u001b[0m\u001b[0;34m\u001b[0m\u001b[0m\n\u001b[1;32m     12\u001b[0m \u001b[0;34m\u001b[0m\u001b[0m\n",
      "\u001b[0;31mModuleNotFoundError\u001b[0m: No module named 'sklearn.linear_model.logistic'"
     ]
    }
   ],
   "source": [
    "names = pd.read_table(\"input_data/pubchem_names\",header=None)\n",
    "names[0] = names[0].map(str)\n",
    "id2name = names.set_index(0).transpose().loc[1,:].to_dict()\n",
    "name2id = names.set_index(1).transpose().loc[0,:].to_dict()\n",
    "\n",
    "result_files = 'results/indications'\n",
    "W = pd.read_table(result_files+ \"_W.txt\",index_col=0)\n",
    "U_DS_DdotW = US.iloc[:,:W.shape[0]].dot(W).rename(id2name)\n",
    "\n",
    "mod_red = pickle.load(open(result_files + '_lr.pkl','rb'))\n",
    "VP = pd.read_table(result_files + '_VB.txt',index_col=0)\n",
    "\n",
    "### predictions = $ U_DS_DW_{DP}V_P$ + intercepts\n",
    "pred_red = U_DS_DdotW @ VP.transpose() + mod_red.intercept_[0]\n",
    "\n",
    "pred_red.to_csv(\"results/indication_predictions.txt\",sep=\"\\t\")"
   ]
  },
  {
   "cell_type": "code",
   "execution_count": 65,
   "id": "944d6065-fe15-4ed1-b20c-5ec37c4bfad1",
   "metadata": {},
   "outputs": [],
   "source": [
    "pred_red = pd.read_csv(\"../indication_predictions.txt\",sep=\"\\t\",index_col=0)"
   ]
  },
  {
   "cell_type": "code",
   "execution_count": 13,
   "id": "5b441314-22bc-48d4-9529-df1e65541620",
   "metadata": {},
   "outputs": [
    {
     "data": {
      "text/html": [
       "<div>\n",
       "<style scoped>\n",
       "    .dataframe tbody tr th:only-of-type {\n",
       "        vertical-align: middle;\n",
       "    }\n",
       "\n",
       "    .dataframe tbody tr th {\n",
       "        vertical-align: top;\n",
       "    }\n",
       "\n",
       "    .dataframe thead th {\n",
       "        text-align: right;\n",
       "    }\n",
       "</style>\n",
       "<table border=\"1\" class=\"dataframe\">\n",
       "  <thead>\n",
       "    <tr style=\"text-align: right;\">\n",
       "      <th></th>\n",
       "      <th>pubchem_cid</th>\n",
       "      <th>Diagnoses - main ICD10: N17 Acute renal failure</th>\n",
       "      <th>Mood swings</th>\n",
       "      <th>Diagnoses - main ICD10: L43 Lichen planus</th>\n",
       "      <th>Non-cancer illness code, self-reported: spinal cord disorder</th>\n",
       "      <th>Heart failure</th>\n",
       "      <th>Non-cancer illness code, self-reported: heart arrhythmia</th>\n",
       "      <th>Diagnoses - main ICD10: R55 Syncope and collapse</th>\n",
       "      <th>Diseases of the genitourinary system</th>\n",
       "      <th>Conduction disorders</th>\n",
       "      <th>...</th>\n",
       "      <th>Myocardial infarction</th>\n",
       "      <th>Diagnoses - main ICD10: I61 Intracerebral haemorrhage</th>\n",
       "      <th>Diagnoses - main ICD10: N18 Chronic renal failure</th>\n",
       "      <th>Diagnoses - main ICD10: K20 Oesophagitis</th>\n",
       "      <th>Non-cancer illness code, self-reported: depression</th>\n",
       "      <th>Diagnoses - main ICD10: R51 Headache</th>\n",
       "      <th>Non-cancer illness code, self-reported: angina</th>\n",
       "      <th>Non-cancer illness code, self-reported: glaucoma</th>\n",
       "      <th>Cancer code, self-reported: non-hodgkins lymphoma</th>\n",
       "      <th>Non-cancer illness code, self-reported: hepatitis</th>\n",
       "    </tr>\n",
       "  </thead>\n",
       "  <tbody>\n",
       "    <tr>\n",
       "      <th>gamma-Aminobutyric acid</th>\n",
       "      <td>119</td>\n",
       "      <td>0.294328</td>\n",
       "      <td>0.327951</td>\n",
       "      <td>0.341806</td>\n",
       "      <td>0.343957</td>\n",
       "      <td>0.233357</td>\n",
       "      <td>0.304011</td>\n",
       "      <td>0.390795</td>\n",
       "      <td>0.318168</td>\n",
       "      <td>0.287722</td>\n",
       "      <td>...</td>\n",
       "      <td>0.410207</td>\n",
       "      <td>0.288261</td>\n",
       "      <td>0.270697</td>\n",
       "      <td>0.226072</td>\n",
       "      <td>0.252930</td>\n",
       "      <td>0.306913</td>\n",
       "      <td>0.376683</td>\n",
       "      <td>0.301767</td>\n",
       "      <td>0.312231</td>\n",
       "      <td>0.498478</td>\n",
       "    </tr>\n",
       "    <tr>\n",
       "      <th>Benzyl Alcohol</th>\n",
       "      <td>244</td>\n",
       "      <td>0.005458</td>\n",
       "      <td>0.064737</td>\n",
       "      <td>0.113486</td>\n",
       "      <td>0.141467</td>\n",
       "      <td>0.045761</td>\n",
       "      <td>0.005359</td>\n",
       "      <td>0.052809</td>\n",
       "      <td>0.006150</td>\n",
       "      <td>0.014374</td>\n",
       "      <td>...</td>\n",
       "      <td>0.131359</td>\n",
       "      <td>0.186764</td>\n",
       "      <td>0.154172</td>\n",
       "      <td>0.024260</td>\n",
       "      <td>0.204432</td>\n",
       "      <td>0.549059</td>\n",
       "      <td>0.186710</td>\n",
       "      <td>0.008194</td>\n",
       "      <td>0.032630</td>\n",
       "      <td>0.022977</td>\n",
       "    </tr>\n",
       "    <tr>\n",
       "      <th>Betaine</th>\n",
       "      <td>247</td>\n",
       "      <td>0.105486</td>\n",
       "      <td>0.151995</td>\n",
       "      <td>0.212605</td>\n",
       "      <td>0.283052</td>\n",
       "      <td>0.406506</td>\n",
       "      <td>0.268299</td>\n",
       "      <td>0.170826</td>\n",
       "      <td>0.152403</td>\n",
       "      <td>0.141320</td>\n",
       "      <td>...</td>\n",
       "      <td>0.474772</td>\n",
       "      <td>0.242387</td>\n",
       "      <td>0.170300</td>\n",
       "      <td>0.393698</td>\n",
       "      <td>0.511525</td>\n",
       "      <td>0.143558</td>\n",
       "      <td>0.468374</td>\n",
       "      <td>0.265767</td>\n",
       "      <td>0.115648</td>\n",
       "      <td>0.095249</td>\n",
       "    </tr>\n",
       "    <tr>\n",
       "      <th>Citric Acid</th>\n",
       "      <td>311</td>\n",
       "      <td>0.005249</td>\n",
       "      <td>0.004059</td>\n",
       "      <td>0.005787</td>\n",
       "      <td>0.026911</td>\n",
       "      <td>0.028742</td>\n",
       "      <td>0.031716</td>\n",
       "      <td>0.005505</td>\n",
       "      <td>0.006111</td>\n",
       "      <td>0.001612</td>\n",
       "      <td>...</td>\n",
       "      <td>0.066114</td>\n",
       "      <td>0.010306</td>\n",
       "      <td>0.935248</td>\n",
       "      <td>0.350296</td>\n",
       "      <td>0.015830</td>\n",
       "      <td>0.087222</td>\n",
       "      <td>0.079853</td>\n",
       "      <td>0.004439</td>\n",
       "      <td>0.045056</td>\n",
       "      <td>0.031193</td>\n",
       "    </tr>\n",
       "    <tr>\n",
       "      <th>Salicylic Acid</th>\n",
       "      <td>338</td>\n",
       "      <td>0.031381</td>\n",
       "      <td>0.287341</td>\n",
       "      <td>0.125535</td>\n",
       "      <td>0.037588</td>\n",
       "      <td>0.062592</td>\n",
       "      <td>0.037064</td>\n",
       "      <td>0.025568</td>\n",
       "      <td>0.019631</td>\n",
       "      <td>0.328724</td>\n",
       "      <td>...</td>\n",
       "      <td>0.007850</td>\n",
       "      <td>0.061228</td>\n",
       "      <td>0.153633</td>\n",
       "      <td>0.009251</td>\n",
       "      <td>0.807299</td>\n",
       "      <td>0.504674</td>\n",
       "      <td>0.105590</td>\n",
       "      <td>0.521810</td>\n",
       "      <td>0.688065</td>\n",
       "      <td>0.170727</td>\n",
       "    </tr>\n",
       "  </tbody>\n",
       "</table>\n",
       "<p>5 rows × 152 columns</p>\n",
       "</div>"
      ],
      "text/plain": [
       "                         pubchem_cid  \\\n",
       "gamma-Aminobutyric acid          119   \n",
       "Benzyl Alcohol                   244   \n",
       "Betaine                          247   \n",
       "Citric Acid                      311   \n",
       "Salicylic Acid                   338   \n",
       "\n",
       "                         Diagnoses - main ICD10: N17 Acute renal failure  \\\n",
       "gamma-Aminobutyric acid                                         0.294328   \n",
       "Benzyl Alcohol                                                  0.005458   \n",
       "Betaine                                                         0.105486   \n",
       "Citric Acid                                                     0.005249   \n",
       "Salicylic Acid                                                  0.031381   \n",
       "\n",
       "                         Mood swings  \\\n",
       "gamma-Aminobutyric acid     0.327951   \n",
       "Benzyl Alcohol              0.064737   \n",
       "Betaine                     0.151995   \n",
       "Citric Acid                 0.004059   \n",
       "Salicylic Acid              0.287341   \n",
       "\n",
       "                         Diagnoses - main ICD10: L43 Lichen planus  \\\n",
       "gamma-Aminobutyric acid                                   0.341806   \n",
       "Benzyl Alcohol                                            0.113486   \n",
       "Betaine                                                   0.212605   \n",
       "Citric Acid                                               0.005787   \n",
       "Salicylic Acid                                            0.125535   \n",
       "\n",
       "                         Non-cancer illness code, self-reported: spinal cord disorder  \\\n",
       "gamma-Aminobutyric acid                                           0.343957              \n",
       "Benzyl Alcohol                                                    0.141467              \n",
       "Betaine                                                           0.283052              \n",
       "Citric Acid                                                       0.026911              \n",
       "Salicylic Acid                                                    0.037588              \n",
       "\n",
       "                         Heart failure  \\\n",
       "gamma-Aminobutyric acid       0.233357   \n",
       "Benzyl Alcohol                0.045761   \n",
       "Betaine                       0.406506   \n",
       "Citric Acid                   0.028742   \n",
       "Salicylic Acid                0.062592   \n",
       "\n",
       "                         Non-cancer illness code, self-reported: heart arrhythmia  \\\n",
       "gamma-Aminobutyric acid                                           0.304011          \n",
       "Benzyl Alcohol                                                    0.005359          \n",
       "Betaine                                                           0.268299          \n",
       "Citric Acid                                                       0.031716          \n",
       "Salicylic Acid                                                    0.037064          \n",
       "\n",
       "                         Diagnoses - main ICD10: R55 Syncope and collapse  \\\n",
       "gamma-Aminobutyric acid                                          0.390795   \n",
       "Benzyl Alcohol                                                   0.052809   \n",
       "Betaine                                                          0.170826   \n",
       "Citric Acid                                                      0.005505   \n",
       "Salicylic Acid                                                   0.025568   \n",
       "\n",
       "                         Diseases of the genitourinary system  \\\n",
       "gamma-Aminobutyric acid                              0.318168   \n",
       "Benzyl Alcohol                                       0.006150   \n",
       "Betaine                                              0.152403   \n",
       "Citric Acid                                          0.006111   \n",
       "Salicylic Acid                                       0.019631   \n",
       "\n",
       "                         Conduction disorders  ...  Myocardial infarction  \\\n",
       "gamma-Aminobutyric acid              0.287722  ...               0.410207   \n",
       "Benzyl Alcohol                       0.014374  ...               0.131359   \n",
       "Betaine                              0.141320  ...               0.474772   \n",
       "Citric Acid                          0.001612  ...               0.066114   \n",
       "Salicylic Acid                       0.328724  ...               0.007850   \n",
       "\n",
       "                         Diagnoses - main ICD10: I61 Intracerebral haemorrhage  \\\n",
       "gamma-Aminobutyric acid                                           0.288261       \n",
       "Benzyl Alcohol                                                    0.186764       \n",
       "Betaine                                                           0.242387       \n",
       "Citric Acid                                                       0.010306       \n",
       "Salicylic Acid                                                    0.061228       \n",
       "\n",
       "                         Diagnoses - main ICD10: N18 Chronic renal failure  \\\n",
       "gamma-Aminobutyric acid                                           0.270697   \n",
       "Benzyl Alcohol                                                    0.154172   \n",
       "Betaine                                                           0.170300   \n",
       "Citric Acid                                                       0.935248   \n",
       "Salicylic Acid                                                    0.153633   \n",
       "\n",
       "                         Diagnoses - main ICD10: K20 Oesophagitis  \\\n",
       "gamma-Aminobutyric acid                                  0.226072   \n",
       "Benzyl Alcohol                                           0.024260   \n",
       "Betaine                                                  0.393698   \n",
       "Citric Acid                                              0.350296   \n",
       "Salicylic Acid                                           0.009251   \n",
       "\n",
       "                         Non-cancer illness code, self-reported: depression  \\\n",
       "gamma-Aminobutyric acid                                           0.252930    \n",
       "Benzyl Alcohol                                                    0.204432    \n",
       "Betaine                                                           0.511525    \n",
       "Citric Acid                                                       0.015830    \n",
       "Salicylic Acid                                                    0.807299    \n",
       "\n",
       "                         Diagnoses - main ICD10: R51 Headache  \\\n",
       "gamma-Aminobutyric acid                              0.306913   \n",
       "Benzyl Alcohol                                       0.549059   \n",
       "Betaine                                              0.143558   \n",
       "Citric Acid                                          0.087222   \n",
       "Salicylic Acid                                       0.504674   \n",
       "\n",
       "                         Non-cancer illness code, self-reported: angina  \\\n",
       "gamma-Aminobutyric acid                                        0.376683   \n",
       "Benzyl Alcohol                                                 0.186710   \n",
       "Betaine                                                        0.468374   \n",
       "Citric Acid                                                    0.079853   \n",
       "Salicylic Acid                                                 0.105590   \n",
       "\n",
       "                         Non-cancer illness code, self-reported: glaucoma  \\\n",
       "gamma-Aminobutyric acid                                          0.301767   \n",
       "Benzyl Alcohol                                                   0.008194   \n",
       "Betaine                                                          0.265767   \n",
       "Citric Acid                                                      0.004439   \n",
       "Salicylic Acid                                                   0.521810   \n",
       "\n",
       "                         Cancer code, self-reported: non-hodgkins lymphoma  \\\n",
       "gamma-Aminobutyric acid                                           0.312231   \n",
       "Benzyl Alcohol                                                    0.032630   \n",
       "Betaine                                                           0.115648   \n",
       "Citric Acid                                                       0.045056   \n",
       "Salicylic Acid                                                    0.688065   \n",
       "\n",
       "                         Non-cancer illness code, self-reported: hepatitis  \n",
       "gamma-Aminobutyric acid                                           0.498478  \n",
       "Benzyl Alcohol                                                    0.022977  \n",
       "Betaine                                                           0.095249  \n",
       "Citric Acid                                                       0.031193  \n",
       "Salicylic Acid                                                    0.170727  \n",
       "\n",
       "[5 rows x 152 columns]"
      ]
     },
     "execution_count": 13,
     "metadata": {},
     "output_type": "execute_result"
    }
   ],
   "source": [
    "pred_red.head()"
   ]
  },
  {
   "cell_type": "code",
   "execution_count": 66,
   "id": "imposed-fifth",
   "metadata": {
    "collapsed": true,
    "jupyter": {
     "outputs_hidden": true
    },
    "tags": []
   },
   "outputs": [
    {
     "data": {
      "text/html": [
       "<div>\n",
       "<style scoped>\n",
       "    .dataframe tbody tr th:only-of-type {\n",
       "        vertical-align: middle;\n",
       "    }\n",
       "\n",
       "    .dataframe tbody tr th {\n",
       "        vertical-align: top;\n",
       "    }\n",
       "\n",
       "    .dataframe thead th {\n",
       "        text-align: right;\n",
       "    }\n",
       "</style>\n",
       "<table border=\"1\" class=\"dataframe\">\n",
       "  <thead>\n",
       "    <tr style=\"text-align: right;\">\n",
       "      <th></th>\n",
       "      <th>gamma-Aminobutyric acid</th>\n",
       "      <th>Benzyl Alcohol</th>\n",
       "      <th>Betaine</th>\n",
       "      <th>Citric Acid</th>\n",
       "      <th>Salicylic Acid</th>\n",
       "      <th>Aminocaproic acid</th>\n",
       "      <th>Lactic Acid</th>\n",
       "      <th>Dimethyl Sulfoxide</th>\n",
       "      <th>Dopamine</th>\n",
       "      <th>Ethanolamine</th>\n",
       "      <th>...</th>\n",
       "      <th>Ethionamide</th>\n",
       "      <th>Prucalopride</th>\n",
       "      <th>Dasatinib</th>\n",
       "      <th>Vandetanib</th>\n",
       "      <th>Tolcapone</th>\n",
       "      <th>Acipimox</th>\n",
       "      <th>5-chloro-N-({2-oxo-3-[4-(3-oxomorpholin-4-yl)phenyl]-1,3-oxazolidin-5-yl}methyl)thiophene-2-carboxamide</th>\n",
       "      <th>Everolimus</th>\n",
       "      <th>Pazopanib</th>\n",
       "      <th>Carfilzomib</th>\n",
       "    </tr>\n",
       "    <tr>\n",
       "      <th>se_name</th>\n",
       "      <th></th>\n",
       "      <th></th>\n",
       "      <th></th>\n",
       "      <th></th>\n",
       "      <th></th>\n",
       "      <th></th>\n",
       "      <th></th>\n",
       "      <th></th>\n",
       "      <th></th>\n",
       "      <th></th>\n",
       "      <th></th>\n",
       "      <th></th>\n",
       "      <th></th>\n",
       "      <th></th>\n",
       "      <th></th>\n",
       "      <th></th>\n",
       "      <th></th>\n",
       "      <th></th>\n",
       "      <th></th>\n",
       "      <th></th>\n",
       "      <th></th>\n",
       "    </tr>\n",
       "  </thead>\n",
       "  <tbody>\n",
       "    <tr>\n",
       "      <th>#Arthrosis</th>\n",
       "      <td>0.0</td>\n",
       "      <td>0.0</td>\n",
       "      <td>0.0</td>\n",
       "      <td>0.0</td>\n",
       "      <td>0.0</td>\n",
       "      <td>0.0</td>\n",
       "      <td>0.0</td>\n",
       "      <td>0.0</td>\n",
       "      <td>0.0</td>\n",
       "      <td>0.0</td>\n",
       "      <td>...</td>\n",
       "      <td>0.0</td>\n",
       "      <td>0.0</td>\n",
       "      <td>0.0</td>\n",
       "      <td>0.0</td>\n",
       "      <td>0.0</td>\n",
       "      <td>0.0</td>\n",
       "      <td>0.0</td>\n",
       "      <td>0.0</td>\n",
       "      <td>0.0</td>\n",
       "      <td>0.0</td>\n",
       "    </tr>\n",
       "    <tr>\n",
       "      <th>AV-block</th>\n",
       "      <td>0.0</td>\n",
       "      <td>0.0</td>\n",
       "      <td>0.0</td>\n",
       "      <td>0.0</td>\n",
       "      <td>0.0</td>\n",
       "      <td>0.0</td>\n",
       "      <td>0.0</td>\n",
       "      <td>0.0</td>\n",
       "      <td>0.0</td>\n",
       "      <td>0.0</td>\n",
       "      <td>...</td>\n",
       "      <td>0.0</td>\n",
       "      <td>0.0</td>\n",
       "      <td>0.0</td>\n",
       "      <td>0.0</td>\n",
       "      <td>0.0</td>\n",
       "      <td>0.0</td>\n",
       "      <td>0.0</td>\n",
       "      <td>0.0</td>\n",
       "      <td>0.0</td>\n",
       "      <td>0.0</td>\n",
       "    </tr>\n",
       "    <tr>\n",
       "      <th>Actinic keratosis</th>\n",
       "      <td>0.0</td>\n",
       "      <td>0.0</td>\n",
       "      <td>0.0</td>\n",
       "      <td>0.0</td>\n",
       "      <td>0.0</td>\n",
       "      <td>0.0</td>\n",
       "      <td>0.0</td>\n",
       "      <td>0.0</td>\n",
       "      <td>0.0</td>\n",
       "      <td>0.0</td>\n",
       "      <td>...</td>\n",
       "      <td>0.0</td>\n",
       "      <td>0.0</td>\n",
       "      <td>0.0</td>\n",
       "      <td>0.0</td>\n",
       "      <td>0.0</td>\n",
       "      <td>0.0</td>\n",
       "      <td>0.0</td>\n",
       "      <td>0.0</td>\n",
       "      <td>0.0</td>\n",
       "      <td>0.0</td>\n",
       "    </tr>\n",
       "    <tr>\n",
       "      <th>Anxiety disorders</th>\n",
       "      <td>0.0</td>\n",
       "      <td>0.0</td>\n",
       "      <td>0.0</td>\n",
       "      <td>0.0</td>\n",
       "      <td>0.0</td>\n",
       "      <td>0.0</td>\n",
       "      <td>0.0</td>\n",
       "      <td>0.0</td>\n",
       "      <td>0.0</td>\n",
       "      <td>0.0</td>\n",
       "      <td>...</td>\n",
       "      <td>0.0</td>\n",
       "      <td>0.0</td>\n",
       "      <td>0.0</td>\n",
       "      <td>0.0</td>\n",
       "      <td>0.0</td>\n",
       "      <td>0.0</td>\n",
       "      <td>0.0</td>\n",
       "      <td>0.0</td>\n",
       "      <td>0.0</td>\n",
       "      <td>0.0</td>\n",
       "    </tr>\n",
       "    <tr>\n",
       "      <th>Breast Cancer</th>\n",
       "      <td>0.0</td>\n",
       "      <td>0.0</td>\n",
       "      <td>0.0</td>\n",
       "      <td>0.0</td>\n",
       "      <td>0.0</td>\n",
       "      <td>0.0</td>\n",
       "      <td>0.0</td>\n",
       "      <td>0.0</td>\n",
       "      <td>0.0</td>\n",
       "      <td>0.0</td>\n",
       "      <td>...</td>\n",
       "      <td>0.0</td>\n",
       "      <td>0.0</td>\n",
       "      <td>0.0</td>\n",
       "      <td>0.0</td>\n",
       "      <td>0.0</td>\n",
       "      <td>0.0</td>\n",
       "      <td>0.0</td>\n",
       "      <td>1.0</td>\n",
       "      <td>0.0</td>\n",
       "      <td>0.0</td>\n",
       "    </tr>\n",
       "  </tbody>\n",
       "</table>\n",
       "<p>5 rows × 413 columns</p>\n",
       "</div>"
      ],
      "text/plain": [
       "                   gamma-Aminobutyric acid  Benzyl Alcohol  Betaine  \\\n",
       "se_name                                                               \n",
       "#Arthrosis                             0.0             0.0      0.0   \n",
       "AV-block                               0.0             0.0      0.0   \n",
       "Actinic keratosis                      0.0             0.0      0.0   \n",
       "Anxiety disorders                      0.0             0.0      0.0   \n",
       "Breast Cancer                          0.0             0.0      0.0   \n",
       "\n",
       "                   Citric Acid  Salicylic Acid  Aminocaproic acid  \\\n",
       "se_name                                                             \n",
       "#Arthrosis                 0.0             0.0                0.0   \n",
       "AV-block                   0.0             0.0                0.0   \n",
       "Actinic keratosis          0.0             0.0                0.0   \n",
       "Anxiety disorders          0.0             0.0                0.0   \n",
       "Breast Cancer              0.0             0.0                0.0   \n",
       "\n",
       "                   Lactic Acid  Dimethyl Sulfoxide  Dopamine  Ethanolamine  \\\n",
       "se_name                                                                      \n",
       "#Arthrosis                 0.0                 0.0       0.0           0.0   \n",
       "AV-block                   0.0                 0.0       0.0           0.0   \n",
       "Actinic keratosis          0.0                 0.0       0.0           0.0   \n",
       "Anxiety disorders          0.0                 0.0       0.0           0.0   \n",
       "Breast Cancer              0.0                 0.0       0.0           0.0   \n",
       "\n",
       "                   ...  Ethionamide  Prucalopride  Dasatinib  Vandetanib  \\\n",
       "se_name            ...                                                     \n",
       "#Arthrosis         ...          0.0           0.0        0.0         0.0   \n",
       "AV-block           ...          0.0           0.0        0.0         0.0   \n",
       "Actinic keratosis  ...          0.0           0.0        0.0         0.0   \n",
       "Anxiety disorders  ...          0.0           0.0        0.0         0.0   \n",
       "Breast Cancer      ...          0.0           0.0        0.0         0.0   \n",
       "\n",
       "                   Tolcapone  Acipimox  \\\n",
       "se_name                                  \n",
       "#Arthrosis               0.0       0.0   \n",
       "AV-block                 0.0       0.0   \n",
       "Actinic keratosis        0.0       0.0   \n",
       "Anxiety disorders        0.0       0.0   \n",
       "Breast Cancer            0.0       0.0   \n",
       "\n",
       "                   5-chloro-N-({2-oxo-3-[4-(3-oxomorpholin-4-yl)phenyl]-1,3-oxazolidin-5-yl}methyl)thiophene-2-carboxamide  \\\n",
       "se_name                                                                                                                      \n",
       "#Arthrosis                                                       0.0                                                         \n",
       "AV-block                                                         0.0                                                         \n",
       "Actinic keratosis                                                0.0                                                         \n",
       "Anxiety disorders                                                0.0                                                         \n",
       "Breast Cancer                                                    0.0                                                         \n",
       "\n",
       "                   Everolimus  Pazopanib  Carfilzomib  \n",
       "se_name                                                \n",
       "#Arthrosis                0.0        0.0          0.0  \n",
       "AV-block                  0.0        0.0          0.0  \n",
       "Actinic keratosis         0.0        0.0          0.0  \n",
       "Anxiety disorders         0.0        0.0          0.0  \n",
       "Breast Cancer             1.0        0.0          0.0  \n",
       "\n",
       "[5 rows x 413 columns]"
      ]
     },
     "execution_count": 66,
     "metadata": {},
     "output_type": "execute_result"
    }
   ],
   "source": [
    "Ymat_indications = pd.read_csv(\"data_for_regression/all_disease_indication_151x413.txt\",sep=\"\\t\",index_col=0).rename(columns=id2name)\n",
    "Ymat_indications.head()"
   ]
  },
  {
   "cell_type": "code",
   "execution_count": 19,
   "id": "affiliated-serial",
   "metadata": {},
   "outputs": [
    {
     "data": {
      "text/plain": [
       "Disulfiram           -76.384160\n",
       "Clotrimazole         -72.838426\n",
       "Loratadine           -59.554425\n",
       "Raloxifene           -58.712214\n",
       "Carfilzomib          -58.065162\n",
       "                        ...    \n",
       "Sotalol                0.144657\n",
       "Nepafenac              0.182960\n",
       "Vecuronium bromide     0.338733\n",
       "Metipranolol           1.162165\n",
       "Fludrocortisone        1.602817\n",
       "Name: Eczema, Length: 405, dtype: float64"
      ]
     },
     "execution_count": 19,
     "metadata": {},
     "output_type": "execute_result"
    }
   ],
   "source": [
    "pred_red_match = pred_red.loc[set(Ymat_indications.columns) & set(pred_red.index),:]\n",
    "\n",
    "Ymat_indications = Ymat_indications.loc[pred_red_match.columns,set(Ymat_indications.columns) & set(pred_red_match.index)].transpose()\n",
    "\n",
    "\n",
    "pred_red_match.loc[Ymat_indications['Eczema']==0,'Eczema'].sort_values()"
   ]
  },
  {
   "cell_type": "code",
   "execution_count": 75,
   "id": "53b03c2a-bf8a-4e62-aaf4-d213fc98af59",
   "metadata": {},
   "outputs": [
    {
     "data": {
      "text/plain": [
       "Non-cancer illness code, self-reported: osteoarthritis                    0.494611\n",
       "Diagnoses - main ICD10: R51 Headache                                      0.622087\n",
       "Cancer code, self-reported: non-hodgkins lymphoma                         0.650266\n",
       "Diagnoses - main ICD10: N80 Endometriosis                                 0.730521\n",
       "Otitis externa                                                            0.730555\n",
       "Non-cancer illness code, self-reported: hayfever/allergic rhinitis        0.734709\n",
       "Non-cancer illness code, self-reported: anaemia                           0.737162\n",
       "Non-cancer illness code, self-reported: asthma                            0.765427\n",
       "Non-cancer illness code, self-reported: gout                              0.790871\n",
       "Non-cancer illness code, self-reported: arthritis (nos)                   0.799777\n",
       "Diagnoses - main ICD10: L43 Lichen planus                                 0.806860\n",
       "Non-cancer illness code, self-reported: psoriasis                         0.823023\n",
       "Eczema                                                                    0.832412\n",
       "Neoplasms                                                                 0.881655\n",
       "Diagnoses - main ICD10: R52 Pain, not elsewhere classified                0.884267\n",
       "Rheumatoid Arthritis                                                      0.914043\n",
       "Thrombocytopenia, unspecified                                             0.941261\n",
       "Non-cancer illness code, self-reported: stomach disorder                  0.954049\n",
       "Breast Cancer                                                             0.969106\n",
       "pubchem_cid                                                           31378.000000\n",
       "Name: Fludrocortisone, dtype: float64"
      ]
     },
     "execution_count": 75,
     "metadata": {},
     "output_type": "execute_result"
    }
   ],
   "source": [
    "pred_red_match.loc['Fludrocortisone',:].sort_values().tail(20)"
   ]
  },
  {
   "cell_type": "code",
   "execution_count": 18,
   "id": "4aefad50-2565-424c-b7db-75008ccf09f7",
   "metadata": {},
   "outputs": [
    {
     "data": {
      "text/plain": [
       "Lidocaine                  1.0\n",
       "Triamcinolone acetonide    1.0\n",
       "Name: Eczema, dtype: float64"
      ]
     },
     "execution_count": 18,
     "metadata": {},
     "output_type": "execute_result"
    }
   ],
   "source": [
    "Ymat_indications.loc[Ymat_indications['Eczema']==1,'Eczema'].sort_values()"
   ]
  },
  {
   "cell_type": "code",
   "execution_count": 16,
   "id": "ef77524f-deda-4166-bebb-62e093db8c3c",
   "metadata": {},
   "outputs": [
    {
     "name": "stderr",
     "output_type": "stream",
     "text": [
      "/tmp/ipykernel_988389/3426685901.py:1: FutureWarning: Passing a set as an indexer is deprecated and will raise in a future version. Use a list instead.\n",
      "  pred_red_match = pred_red.loc[set(Ymat_indications.columns) & set(pred_red.index),:]\n",
      "/tmp/ipykernel_988389/3426685901.py:3: FutureWarning: Passing a set as an indexer is deprecated and will raise in a future version. Use a list instead.\n",
      "  Ymat_indications = Ymat_indications.loc[pred_red_match.drop('pubchem_cid',axis=1).columns,set(Ymat_indications.columns) & set(pred_red_match.index)].transpose()\n"
     ]
    },
    {
     "data": {
      "text/plain": [
       "Disulfiram            6.710900e-34\n",
       "Clotrimazole          2.326341e-32\n",
       "Hexachlorophene       3.839287e-28\n",
       "Loratadine            1.367231e-26\n",
       "Raloxifene            3.174020e-26\n",
       "                          ...     \n",
       "Sotalol               5.361014e-01\n",
       "Nepafenac             5.456129e-01\n",
       "Vecuronium bromide    5.838828e-01\n",
       "Metipranolol          7.617259e-01\n",
       "Fludrocortisone       8.324117e-01\n",
       "Name: Eczema, Length: 411, dtype: float64"
      ]
     },
     "execution_count": 16,
     "metadata": {},
     "output_type": "execute_result"
    }
   ],
   "source": [
    "pred_red_match = pred_red.loc[set(Ymat_indications.columns) & set(pred_red.index),:]\n",
    "\n",
    "Ymat_indications = Ymat_indications.loc[pred_red_match.drop('pubchem_cid',axis=1).columns,set(Ymat_indications.columns) & set(pred_red_match.index)].transpose()\n",
    "\n",
    "\n",
    "pred_red_match.loc[Ymat_indications['Eczema']==0,'Eczema'].sort_values()"
   ]
  },
  {
   "cell_type": "code",
   "execution_count": 69,
   "id": "268df131-b6bd-45e5-8eb1-adeb76b81ef7",
   "metadata": {},
   "outputs": [
    {
     "data": {
      "text/plain": [
       "Diagnoses - main ICD10: R52 Pain, not elsewhere classified     0.0\n",
       "Non-cancer illness code, self-reported: atrial fibrillation    0.0\n",
       "Myalgia                                                        0.0\n",
       "Ulcer of oesophagus                                            0.0\n",
       "Diseases of the nervous system                                 0.0\n",
       "Diagnoses - main ICD10: R35 Polyuria                           0.0\n",
       "Diagnoses - main ICD10: G47 Sleep disorders                    0.0\n",
       "Non-cancer illness code, self-reported: hepatitis              0.0\n",
       "Breast Cancer                                                  1.0\n",
       "Neoplasms                                                      1.0\n",
       "Name: Fludrocortisone, dtype: float64"
      ]
     },
     "execution_count": 69,
     "metadata": {},
     "output_type": "execute_result"
    }
   ],
   "source": [
    "Ymat_indications.loc['Fludrocortisone',:].sort_values().tail(10)"
   ]
  },
  {
   "cell_type": "code",
   "execution_count": 79,
   "id": "comic-delicious",
   "metadata": {},
   "outputs": [
    {
     "data": {
      "text/plain": [
       "Troglitazone       -34.852543\n",
       "Nitazoxanide       -28.334991\n",
       "Nisoldipine        -28.319596\n",
       "Mitotane           -26.543275\n",
       "Clotrimazole       -26.293179\n",
       "                      ...    \n",
       "Felbamate            0.746012\n",
       "Metyrapone           0.999977\n",
       "Isoproterenol        1.373527\n",
       "Chlorthalidone       1.533764\n",
       "Methyclothiazide     2.193702\n",
       "Name: Non-cancer illness code, self-reported: glaucoma, Length: 401, dtype: float64"
      ]
     },
     "execution_count": 79,
     "metadata": {},
     "output_type": "execute_result"
    }
   ],
   "source": [
    "glaucoma = 'Non-cancer illness code, self-reported: glaucoma'\n",
    "pred_red_match.loc[Ymat_indications[glaucoma]==0,glaucoma].sort_values()"
   ]
  },
  {
   "cell_type": "code",
   "execution_count": null,
   "id": "sized-louis",
   "metadata": {},
   "outputs": [],
   "source": []
  }
 ],
 "metadata": {
  "kernelspec": {
   "display_name": "Python [conda env:anaconda-2022.10]",
   "language": "python",
   "name": "conda-env-anaconda-2022.10-py"
  },
  "language_info": {
   "codemirror_mode": {
    "name": "ipython",
    "version": 3
   },
   "file_extension": ".py",
   "mimetype": "text/x-python",
   "name": "python",
   "nbconvert_exporter": "python",
   "pygments_lexer": "ipython3",
   "version": "3.9.13"
  }
 },
 "nbformat": 4,
 "nbformat_minor": 5
}
